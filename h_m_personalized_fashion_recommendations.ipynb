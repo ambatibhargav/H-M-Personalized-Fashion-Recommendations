{
  "metadata": {
    "kernelspec": {
      "language": "python",
      "display_name": "Python 3",
      "name": "python3"
    },
    "language_info": {
      "name": "python",
      "version": "3.7.12",
      "mimetype": "text/x-python",
      "codemirror_mode": {
        "name": "ipython",
        "version": 3
      },
      "pygments_lexer": "ipython3",
      "nbconvert_exporter": "python",
      "file_extension": ".py"
    },
    "colab": {
      "name": "h-m-personalized-fashion-recommendations.ipynb",
      "provenance": []
    }
  },
  "nbformat_minor": 0,
  "nbformat": 4,
  "cells": [
    {
      "cell_type": "code",
      "source": [
        "import os\n",
        "import numpy as np\n",
        "import pandas as pd\n",
        "import gc\n",
        "import seaborn as sns\n",
        "import matplotlib.pyplot as plt\n",
        "import io"
      ],
      "metadata": {
        "execution": {
          "iopub.status.busy": "2022-04-16T04:47:29.416948Z",
          "iopub.status.idle": "2022-04-16T04:47:29.417769Z",
          "shell.execute_reply.started": "2022-04-16T04:47:29.417477Z",
          "shell.execute_reply": "2022-04-16T04:47:29.417509Z"
        },
        "trusted": true,
        "id": "wBF9rJ6LWMUI"
      },
      "execution_count": 5,
      "outputs": []
    },
    {
      "cell_type": "code",
      "source": [
        "from google.colab import files\n",
        "uploaded = files.upload()"
      ],
      "metadata": {
        "execution": {
          "iopub.status.busy": "2022-04-16T04:47:29.419590Z",
          "iopub.status.idle": "2022-04-16T04:47:29.420575Z",
          "shell.execute_reply.started": "2022-04-16T04:47:29.420176Z",
          "shell.execute_reply": "2022-04-16T04:47:29.420207Z"
        },
        "trusted": true,
        "colab": {
          "resources": {
            "http://localhost:8080/nbextensions/google.colab/files.js": {
              "data": "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",
              "ok": true,
              "headers": [
                [
                  "content-type",
                  "application/javascript"
                ]
              ],
              "status": 200,
              "status_text": ""
            }
          },
          "base_uri": "https://localhost:8080/",
          "height": 73
        },
        "id": "7kSXOGtJWMUP",
        "outputId": "6527071b-7ab5-43f5-c48d-1ec0720493ae"
      },
      "execution_count": 6,
      "outputs": [
        {
          "output_type": "display_data",
          "data": {
            "text/plain": [
              "<IPython.core.display.HTML object>"
            ],
            "text/html": [
              "\n",
              "     <input type=\"file\" id=\"files-3479b723-0098-49cd-bf35-e0c7ae1a10bf\" name=\"files[]\" multiple disabled\n",
              "        style=\"border:none\" />\n",
              "     <output id=\"result-3479b723-0098-49cd-bf35-e0c7ae1a10bf\">\n",
              "      Upload widget is only available when the cell has been executed in the\n",
              "      current browser session. Please rerun this cell to enable.\n",
              "      </output>\n",
              "      <script src=\"/nbextensions/google.colab/files.js\"></script> "
            ]
          },
          "metadata": {}
        },
        {
          "output_type": "stream",
          "name": "stdout",
          "text": [
            "Saving articles.csv to articles.csv\n"
          ]
        }
      ]
    },
    {
      "cell_type": "markdown",
      "source": [
        "**Articles**"
      ],
      "metadata": {
        "id": "PAjAxJw-WMUR"
      }
    },
    {
      "cell_type": "code",
      "source": [
        "articles= pd.read_csv(io.BytesIO(uploaded['articles.csv']))"
      ],
      "metadata": {
        "execution": {
          "iopub.status.busy": "2022-04-16T04:46:20.160117Z",
          "iopub.execute_input": "2022-04-16T04:46:20.160888Z",
          "iopub.status.idle": "2022-04-16T04:46:20.786297Z",
          "shell.execute_reply.started": "2022-04-16T04:46:20.160833Z",
          "shell.execute_reply": "2022-04-16T04:46:20.785295Z"
        },
        "trusted": true,
        "id": "FrSkHAbIWMUT"
      },
      "execution_count": 7,
      "outputs": []
    },
    {
      "cell_type": "code",
      "source": [
        "articles.head()"
      ],
      "metadata": {
        "execution": {
          "iopub.status.busy": "2022-04-16T04:46:20.787868Z",
          "iopub.execute_input": "2022-04-16T04:46:20.788235Z",
          "iopub.status.idle": "2022-04-16T04:46:20.813650Z",
          "shell.execute_reply.started": "2022-04-16T04:46:20.788191Z",
          "shell.execute_reply": "2022-04-16T04:46:20.812666Z"
        },
        "trusted": true,
        "id": "61OUJ9gEWMUV",
        "outputId": "1a0a3d86-d4b6-4006-b728-8de44acc7532",
        "colab": {
          "base_uri": "https://localhost:8080/",
          "height": 560
        }
      },
      "execution_count": 8,
      "outputs": [
        {
          "output_type": "execute_result",
          "data": {
            "text/plain": [
              "   article_id  product_code          prod_name  product_type_no  \\\n",
              "0   108775015        108775          Strap top              253   \n",
              "1   108775044        108775          Strap top              253   \n",
              "2   108775051        108775      Strap top (1)              253   \n",
              "3   110065001        110065  OP T-shirt (Idro)              306   \n",
              "4   110065002        110065  OP T-shirt (Idro)              306   \n",
              "\n",
              "  product_type_name  product_group_name  graphical_appearance_no  \\\n",
              "0          Vest top  Garment Upper body                  1010016   \n",
              "1          Vest top  Garment Upper body                  1010016   \n",
              "2          Vest top  Garment Upper body                  1010017   \n",
              "3               Bra           Underwear                  1010016   \n",
              "4               Bra           Underwear                  1010016   \n",
              "\n",
              "  graphical_appearance_name  colour_group_code colour_group_name  ...  \\\n",
              "0                     Solid                  9             Black  ...   \n",
              "1                     Solid                 10             White  ...   \n",
              "2                    Stripe                 11         Off White  ...   \n",
              "3                     Solid                  9             Black  ...   \n",
              "4                     Solid                 10             White  ...   \n",
              "\n",
              "   department_name index_code        index_name index_group_no  \\\n",
              "0     Jersey Basic          A        Ladieswear              1   \n",
              "1     Jersey Basic          A        Ladieswear              1   \n",
              "2     Jersey Basic          A        Ladieswear              1   \n",
              "3   Clean Lingerie          B  Lingeries/Tights              1   \n",
              "4   Clean Lingerie          B  Lingeries/Tights              1   \n",
              "\n",
              "   index_group_name section_no            section_name garment_group_no  \\\n",
              "0        Ladieswear         16  Womens Everyday Basics             1002   \n",
              "1        Ladieswear         16  Womens Everyday Basics             1002   \n",
              "2        Ladieswear         16  Womens Everyday Basics             1002   \n",
              "3        Ladieswear         61         Womens Lingerie             1017   \n",
              "4        Ladieswear         61         Womens Lingerie             1017   \n",
              "\n",
              "   garment_group_name                                        detail_desc  \n",
              "0        Jersey Basic            Jersey top with narrow shoulder straps.  \n",
              "1        Jersey Basic            Jersey top with narrow shoulder straps.  \n",
              "2        Jersey Basic            Jersey top with narrow shoulder straps.  \n",
              "3   Under-, Nightwear  Microfibre T-shirt bra with underwired, moulde...  \n",
              "4   Under-, Nightwear  Microfibre T-shirt bra with underwired, moulde...  \n",
              "\n",
              "[5 rows x 25 columns]"
            ],
            "text/html": [
              "\n",
              "  <div id=\"df-52213776-7d9c-4d8b-88c0-4990054d7ff9\">\n",
              "    <div class=\"colab-df-container\">\n",
              "      <div>\n",
              "<style scoped>\n",
              "    .dataframe tbody tr th:only-of-type {\n",
              "        vertical-align: middle;\n",
              "    }\n",
              "\n",
              "    .dataframe tbody tr th {\n",
              "        vertical-align: top;\n",
              "    }\n",
              "\n",
              "    .dataframe thead th {\n",
              "        text-align: right;\n",
              "    }\n",
              "</style>\n",
              "<table border=\"1\" class=\"dataframe\">\n",
              "  <thead>\n",
              "    <tr style=\"text-align: right;\">\n",
              "      <th></th>\n",
              "      <th>article_id</th>\n",
              "      <th>product_code</th>\n",
              "      <th>prod_name</th>\n",
              "      <th>product_type_no</th>\n",
              "      <th>product_type_name</th>\n",
              "      <th>product_group_name</th>\n",
              "      <th>graphical_appearance_no</th>\n",
              "      <th>graphical_appearance_name</th>\n",
              "      <th>colour_group_code</th>\n",
              "      <th>colour_group_name</th>\n",
              "      <th>...</th>\n",
              "      <th>department_name</th>\n",
              "      <th>index_code</th>\n",
              "      <th>index_name</th>\n",
              "      <th>index_group_no</th>\n",
              "      <th>index_group_name</th>\n",
              "      <th>section_no</th>\n",
              "      <th>section_name</th>\n",
              "      <th>garment_group_no</th>\n",
              "      <th>garment_group_name</th>\n",
              "      <th>detail_desc</th>\n",
              "    </tr>\n",
              "  </thead>\n",
              "  <tbody>\n",
              "    <tr>\n",
              "      <th>0</th>\n",
              "      <td>108775015</td>\n",
              "      <td>108775</td>\n",
              "      <td>Strap top</td>\n",
              "      <td>253</td>\n",
              "      <td>Vest top</td>\n",
              "      <td>Garment Upper body</td>\n",
              "      <td>1010016</td>\n",
              "      <td>Solid</td>\n",
              "      <td>9</td>\n",
              "      <td>Black</td>\n",
              "      <td>...</td>\n",
              "      <td>Jersey Basic</td>\n",
              "      <td>A</td>\n",
              "      <td>Ladieswear</td>\n",
              "      <td>1</td>\n",
              "      <td>Ladieswear</td>\n",
              "      <td>16</td>\n",
              "      <td>Womens Everyday Basics</td>\n",
              "      <td>1002</td>\n",
              "      <td>Jersey Basic</td>\n",
              "      <td>Jersey top with narrow shoulder straps.</td>\n",
              "    </tr>\n",
              "    <tr>\n",
              "      <th>1</th>\n",
              "      <td>108775044</td>\n",
              "      <td>108775</td>\n",
              "      <td>Strap top</td>\n",
              "      <td>253</td>\n",
              "      <td>Vest top</td>\n",
              "      <td>Garment Upper body</td>\n",
              "      <td>1010016</td>\n",
              "      <td>Solid</td>\n",
              "      <td>10</td>\n",
              "      <td>White</td>\n",
              "      <td>...</td>\n",
              "      <td>Jersey Basic</td>\n",
              "      <td>A</td>\n",
              "      <td>Ladieswear</td>\n",
              "      <td>1</td>\n",
              "      <td>Ladieswear</td>\n",
              "      <td>16</td>\n",
              "      <td>Womens Everyday Basics</td>\n",
              "      <td>1002</td>\n",
              "      <td>Jersey Basic</td>\n",
              "      <td>Jersey top with narrow shoulder straps.</td>\n",
              "    </tr>\n",
              "    <tr>\n",
              "      <th>2</th>\n",
              "      <td>108775051</td>\n",
              "      <td>108775</td>\n",
              "      <td>Strap top (1)</td>\n",
              "      <td>253</td>\n",
              "      <td>Vest top</td>\n",
              "      <td>Garment Upper body</td>\n",
              "      <td>1010017</td>\n",
              "      <td>Stripe</td>\n",
              "      <td>11</td>\n",
              "      <td>Off White</td>\n",
              "      <td>...</td>\n",
              "      <td>Jersey Basic</td>\n",
              "      <td>A</td>\n",
              "      <td>Ladieswear</td>\n",
              "      <td>1</td>\n",
              "      <td>Ladieswear</td>\n",
              "      <td>16</td>\n",
              "      <td>Womens Everyday Basics</td>\n",
              "      <td>1002</td>\n",
              "      <td>Jersey Basic</td>\n",
              "      <td>Jersey top with narrow shoulder straps.</td>\n",
              "    </tr>\n",
              "    <tr>\n",
              "      <th>3</th>\n",
              "      <td>110065001</td>\n",
              "      <td>110065</td>\n",
              "      <td>OP T-shirt (Idro)</td>\n",
              "      <td>306</td>\n",
              "      <td>Bra</td>\n",
              "      <td>Underwear</td>\n",
              "      <td>1010016</td>\n",
              "      <td>Solid</td>\n",
              "      <td>9</td>\n",
              "      <td>Black</td>\n",
              "      <td>...</td>\n",
              "      <td>Clean Lingerie</td>\n",
              "      <td>B</td>\n",
              "      <td>Lingeries/Tights</td>\n",
              "      <td>1</td>\n",
              "      <td>Ladieswear</td>\n",
              "      <td>61</td>\n",
              "      <td>Womens Lingerie</td>\n",
              "      <td>1017</td>\n",
              "      <td>Under-, Nightwear</td>\n",
              "      <td>Microfibre T-shirt bra with underwired, moulde...</td>\n",
              "    </tr>\n",
              "    <tr>\n",
              "      <th>4</th>\n",
              "      <td>110065002</td>\n",
              "      <td>110065</td>\n",
              "      <td>OP T-shirt (Idro)</td>\n",
              "      <td>306</td>\n",
              "      <td>Bra</td>\n",
              "      <td>Underwear</td>\n",
              "      <td>1010016</td>\n",
              "      <td>Solid</td>\n",
              "      <td>10</td>\n",
              "      <td>White</td>\n",
              "      <td>...</td>\n",
              "      <td>Clean Lingerie</td>\n",
              "      <td>B</td>\n",
              "      <td>Lingeries/Tights</td>\n",
              "      <td>1</td>\n",
              "      <td>Ladieswear</td>\n",
              "      <td>61</td>\n",
              "      <td>Womens Lingerie</td>\n",
              "      <td>1017</td>\n",
              "      <td>Under-, Nightwear</td>\n",
              "      <td>Microfibre T-shirt bra with underwired, moulde...</td>\n",
              "    </tr>\n",
              "  </tbody>\n",
              "</table>\n",
              "<p>5 rows × 25 columns</p>\n",
              "</div>\n",
              "      <button class=\"colab-df-convert\" onclick=\"convertToInteractive('df-52213776-7d9c-4d8b-88c0-4990054d7ff9')\"\n",
              "              title=\"Convert this dataframe to an interactive table.\"\n",
              "              style=\"display:none;\">\n",
              "        \n",
              "  <svg xmlns=\"http://www.w3.org/2000/svg\" height=\"24px\"viewBox=\"0 0 24 24\"\n",
              "       width=\"24px\">\n",
              "    <path d=\"M0 0h24v24H0V0z\" fill=\"none\"/>\n",
              "    <path d=\"M18.56 5.44l.94 2.06.94-2.06 2.06-.94-2.06-.94-.94-2.06-.94 2.06-2.06.94zm-11 1L8.5 8.5l.94-2.06 2.06-.94-2.06-.94L8.5 2.5l-.94 2.06-2.06.94zm10 10l.94 2.06.94-2.06 2.06-.94-2.06-.94-.94-2.06-.94 2.06-2.06.94z\"/><path d=\"M17.41 7.96l-1.37-1.37c-.4-.4-.92-.59-1.43-.59-.52 0-1.04.2-1.43.59L10.3 9.45l-7.72 7.72c-.78.78-.78 2.05 0 2.83L4 21.41c.39.39.9.59 1.41.59.51 0 1.02-.2 1.41-.59l7.78-7.78 2.81-2.81c.8-.78.8-2.07 0-2.86zM5.41 20L4 18.59l7.72-7.72 1.47 1.35L5.41 20z\"/>\n",
              "  </svg>\n",
              "      </button>\n",
              "      \n",
              "  <style>\n",
              "    .colab-df-container {\n",
              "      display:flex;\n",
              "      flex-wrap:wrap;\n",
              "      gap: 12px;\n",
              "    }\n",
              "\n",
              "    .colab-df-convert {\n",
              "      background-color: #E8F0FE;\n",
              "      border: none;\n",
              "      border-radius: 50%;\n",
              "      cursor: pointer;\n",
              "      display: none;\n",
              "      fill: #1967D2;\n",
              "      height: 32px;\n",
              "      padding: 0 0 0 0;\n",
              "      width: 32px;\n",
              "    }\n",
              "\n",
              "    .colab-df-convert:hover {\n",
              "      background-color: #E2EBFA;\n",
              "      box-shadow: 0px 1px 2px rgba(60, 64, 67, 0.3), 0px 1px 3px 1px rgba(60, 64, 67, 0.15);\n",
              "      fill: #174EA6;\n",
              "    }\n",
              "\n",
              "    [theme=dark] .colab-df-convert {\n",
              "      background-color: #3B4455;\n",
              "      fill: #D2E3FC;\n",
              "    }\n",
              "\n",
              "    [theme=dark] .colab-df-convert:hover {\n",
              "      background-color: #434B5C;\n",
              "      box-shadow: 0px 1px 3px 1px rgba(0, 0, 0, 0.15);\n",
              "      filter: drop-shadow(0px 1px 2px rgba(0, 0, 0, 0.3));\n",
              "      fill: #FFFFFF;\n",
              "    }\n",
              "  </style>\n",
              "\n",
              "      <script>\n",
              "        const buttonEl =\n",
              "          document.querySelector('#df-52213776-7d9c-4d8b-88c0-4990054d7ff9 button.colab-df-convert');\n",
              "        buttonEl.style.display =\n",
              "          google.colab.kernel.accessAllowed ? 'block' : 'none';\n",
              "\n",
              "        async function convertToInteractive(key) {\n",
              "          const element = document.querySelector('#df-52213776-7d9c-4d8b-88c0-4990054d7ff9');\n",
              "          const dataTable =\n",
              "            await google.colab.kernel.invokeFunction('convertToInteractive',\n",
              "                                                     [key], {});\n",
              "          if (!dataTable) return;\n",
              "\n",
              "          const docLinkHtml = 'Like what you see? Visit the ' +\n",
              "            '<a target=\"_blank\" href=https://colab.research.google.com/notebooks/data_table.ipynb>data table notebook</a>'\n",
              "            + ' to learn more about interactive tables.';\n",
              "          element.innerHTML = '';\n",
              "          dataTable['output_type'] = 'display_data';\n",
              "          await google.colab.output.renderOutput(dataTable, element);\n",
              "          const docLink = document.createElement('div');\n",
              "          docLink.innerHTML = docLinkHtml;\n",
              "          element.appendChild(docLink);\n",
              "        }\n",
              "      </script>\n",
              "    </div>\n",
              "  </div>\n",
              "  "
            ]
          },
          "metadata": {},
          "execution_count": 8
        }
      ]
    },
    {
      "cell_type": "code",
      "source": [
        "articles.shape"
      ],
      "metadata": {
        "execution": {
          "iopub.status.busy": "2022-04-16T04:46:20.816291Z",
          "iopub.execute_input": "2022-04-16T04:46:20.816630Z",
          "iopub.status.idle": "2022-04-16T04:46:20.824776Z",
          "shell.execute_reply.started": "2022-04-16T04:46:20.816583Z",
          "shell.execute_reply": "2022-04-16T04:46:20.823845Z"
        },
        "trusted": true,
        "id": "Uqpo99QUWMUX",
        "outputId": "81c03378-8791-429b-8b0b-bdbe81cc32b1",
        "colab": {
          "base_uri": "https://localhost:8080/"
        }
      },
      "execution_count": 9,
      "outputs": [
        {
          "output_type": "execute_result",
          "data": {
            "text/plain": [
              "(105542, 25)"
            ]
          },
          "metadata": {},
          "execution_count": 9
        }
      ]
    },
    {
      "cell_type": "code",
      "source": [
        "articles.info()"
      ],
      "metadata": {
        "execution": {
          "iopub.status.busy": "2022-04-16T04:46:20.826503Z",
          "iopub.execute_input": "2022-04-16T04:46:20.826810Z",
          "iopub.status.idle": "2022-04-16T04:46:20.882367Z",
          "shell.execute_reply.started": "2022-04-16T04:46:20.826768Z",
          "shell.execute_reply": "2022-04-16T04:46:20.881410Z"
        },
        "trusted": true,
        "id": "3hX7Wxu4WMUY",
        "outputId": "93b3ee45-541f-4879-c495-d6d703ef2ff6",
        "colab": {
          "base_uri": "https://localhost:8080/"
        }
      },
      "execution_count": 11,
      "outputs": [
        {
          "output_type": "stream",
          "name": "stdout",
          "text": [
            "<class 'pandas.core.frame.DataFrame'>\n",
            "RangeIndex: 105542 entries, 0 to 105541\n",
            "Data columns (total 25 columns):\n",
            " #   Column                        Non-Null Count   Dtype \n",
            "---  ------                        --------------   ----- \n",
            " 0   article_id                    105542 non-null  int64 \n",
            " 1   product_code                  105542 non-null  int64 \n",
            " 2   prod_name                     105542 non-null  object\n",
            " 3   product_type_no               105542 non-null  int64 \n",
            " 4   product_type_name             105542 non-null  object\n",
            " 5   product_group_name            105542 non-null  object\n",
            " 6   graphical_appearance_no       105542 non-null  int64 \n",
            " 7   graphical_appearance_name     105542 non-null  object\n",
            " 8   colour_group_code             105542 non-null  int64 \n",
            " 9   colour_group_name             105542 non-null  object\n",
            " 10  perceived_colour_value_id     105542 non-null  int64 \n",
            " 11  perceived_colour_value_name   105542 non-null  object\n",
            " 12  perceived_colour_master_id    105542 non-null  int64 \n",
            " 13  perceived_colour_master_name  105542 non-null  object\n",
            " 14  department_no                 105542 non-null  int64 \n",
            " 15  department_name               105542 non-null  object\n",
            " 16  index_code                    105542 non-null  object\n",
            " 17  index_name                    105542 non-null  object\n",
            " 18  index_group_no                105542 non-null  int64 \n",
            " 19  index_group_name              105542 non-null  object\n",
            " 20  section_no                    105542 non-null  int64 \n",
            " 21  section_name                  105542 non-null  object\n",
            " 22  garment_group_no              105542 non-null  int64 \n",
            " 23  garment_group_name            105542 non-null  object\n",
            " 24  detail_desc                   105126 non-null  object\n",
            "dtypes: int64(11), object(14)\n",
            "memory usage: 20.1+ MB\n"
          ]
        }
      ]
    },
    {
      "cell_type": "code",
      "source": [
        "articles.isnull().sum()"
      ],
      "metadata": {
        "execution": {
          "iopub.status.busy": "2022-04-16T04:46:20.884009Z",
          "iopub.execute_input": "2022-04-16T04:46:20.884265Z",
          "iopub.status.idle": "2022-04-16T04:46:20.957576Z",
          "shell.execute_reply.started": "2022-04-16T04:46:20.884235Z",
          "shell.execute_reply": "2022-04-16T04:46:20.956590Z"
        },
        "trusted": true,
        "id": "6Q8FVelVWMUZ",
        "outputId": "3b9b64dd-2f0c-4cb1-d495-abcd917f7541",
        "colab": {
          "base_uri": "https://localhost:8080/"
        }
      },
      "execution_count": 12,
      "outputs": [
        {
          "output_type": "execute_result",
          "data": {
            "text/plain": [
              "article_id                        0\n",
              "product_code                      0\n",
              "prod_name                         0\n",
              "product_type_no                   0\n",
              "product_type_name                 0\n",
              "product_group_name                0\n",
              "graphical_appearance_no           0\n",
              "graphical_appearance_name         0\n",
              "colour_group_code                 0\n",
              "colour_group_name                 0\n",
              "perceived_colour_value_id         0\n",
              "perceived_colour_value_name       0\n",
              "perceived_colour_master_id        0\n",
              "perceived_colour_master_name      0\n",
              "department_no                     0\n",
              "department_name                   0\n",
              "index_code                        0\n",
              "index_name                        0\n",
              "index_group_no                    0\n",
              "index_group_name                  0\n",
              "section_no                        0\n",
              "section_name                      0\n",
              "garment_group_no                  0\n",
              "garment_group_name                0\n",
              "detail_desc                     416\n",
              "dtype: int64"
            ]
          },
          "metadata": {},
          "execution_count": 12
        }
      ]
    },
    {
      "cell_type": "code",
      "source": [
        "corr = articles.corr()\n",
        "corr.style.background_gradient (cmap = \"copper\")"
      ],
      "metadata": {
        "execution": {
          "iopub.status.busy": "2022-04-16T04:46:20.958854Z",
          "iopub.execute_input": "2022-04-16T04:46:20.959378Z",
          "iopub.status.idle": "2022-04-16T04:46:21.037484Z",
          "shell.execute_reply.started": "2022-04-16T04:46:20.959343Z",
          "shell.execute_reply": "2022-04-16T04:46:21.036855Z"
        },
        "trusted": true,
        "id": "JtvHePnMWMUa",
        "outputId": "304de312-8a7d-4919-8c31-7e026729094b",
        "colab": {
          "base_uri": "https://localhost:8080/",
          "height": 414
        }
      },
      "execution_count": 13,
      "outputs": [
        {
          "output_type": "execute_result",
          "data": {
            "text/plain": [
              "<pandas.io.formats.style.Styler at 0x7f5a2b42ef50>"
            ],
            "text/html": [
              "<style type=\"text/css\">\n",
              "#T_7233f_row0_col0, #T_7233f_row0_col1, #T_7233f_row1_col0, #T_7233f_row1_col1, #T_7233f_row2_col2, #T_7233f_row3_col3, #T_7233f_row4_col4, #T_7233f_row5_col5, #T_7233f_row6_col6, #T_7233f_row7_col7, #T_7233f_row8_col8, #T_7233f_row9_col9, #T_7233f_row10_col10 {\n",
              "  background-color: #ffc77f;\n",
              "  color: #000000;\n",
              "}\n",
              "#T_7233f_row0_col2, #T_7233f_row1_col2 {\n",
              "  background-color: #5d3b25;\n",
              "  color: #f1f1f1;\n",
              "}\n",
              "#T_7233f_row0_col3, #T_7233f_row1_col3 {\n",
              "  background-color: #020201;\n",
              "  color: #f1f1f1;\n",
              "}\n",
              "#T_7233f_row0_col4, #T_7233f_row1_col4, #T_7233f_row6_col8 {\n",
              "  background-color: #1e130c;\n",
              "  color: #f1f1f1;\n",
              "}\n",
              "#T_7233f_row0_col5, #T_7233f_row0_col7, #T_7233f_row1_col5, #T_7233f_row1_col7, #T_7233f_row2_col3, #T_7233f_row2_col5, #T_7233f_row2_col9, #T_7233f_row2_col10, #T_7233f_row4_col6, #T_7233f_row6_col4, #T_7233f_row7_col0, #T_7233f_row7_col1, #T_7233f_row7_col3, #T_7233f_row10_col2, #T_7233f_row10_col8 {\n",
              "  background-color: #000000;\n",
              "  color: #f1f1f1;\n",
              "}\n",
              "#T_7233f_row0_col6, #T_7233f_row1_col6, #T_7233f_row4_col8 {\n",
              "  background-color: #311f14;\n",
              "  color: #f1f1f1;\n",
              "}\n",
              "#T_7233f_row0_col8, #T_7233f_row1_col8 {\n",
              "  background-color: #1a100a;\n",
              "  color: #f1f1f1;\n",
              "}\n",
              "#T_7233f_row0_col9, #T_7233f_row1_col9, #T_7233f_row10_col5 {\n",
              "  background-color: #140c08;\n",
              "  color: #f1f1f1;\n",
              "}\n",
              "#T_7233f_row0_col10, #T_7233f_row1_col10 {\n",
              "  background-color: #603d27;\n",
              "  color: #f1f1f1;\n",
              "}\n",
              "#T_7233f_row2_col0, #T_7233f_row2_col1 {\n",
              "  background-color: #0e0905;\n",
              "  color: #f1f1f1;\n",
              "}\n",
              "#T_7233f_row2_col4, #T_7233f_row8_col10 {\n",
              "  background-color: #442b1b;\n",
              "  color: #f1f1f1;\n",
              "}\n",
              "#T_7233f_row2_col6 {\n",
              "  background-color: #21150d;\n",
              "  color: #f1f1f1;\n",
              "}\n",
              "#T_7233f_row2_col7 {\n",
              "  background-color: #150d08;\n",
              "  color: #f1f1f1;\n",
              "}\n",
              "#T_7233f_row2_col8 {\n",
              "  background-color: #3a2517;\n",
              "  color: #f1f1f1;\n",
              "}\n",
              "#T_7233f_row3_col0, #T_7233f_row3_col1, #T_7233f_row5_col7, #T_7233f_row6_col0, #T_7233f_row6_col1 {\n",
              "  background-color: #19100a;\n",
              "  color: #f1f1f1;\n",
              "}\n",
              "#T_7233f_row3_col2, #T_7233f_row4_col10, #T_7233f_row7_col2 {\n",
              "  background-color: #633e28;\n",
              "  color: #f1f1f1;\n",
              "}\n",
              "#T_7233f_row3_col4, #T_7233f_row3_col6 {\n",
              "  background-color: #342115;\n",
              "  color: #f1f1f1;\n",
              "}\n",
              "#T_7233f_row3_col5, #T_7233f_row3_col7, #T_7233f_row6_col5 {\n",
              "  background-color: #160e09;\n",
              "  color: #f1f1f1;\n",
              "}\n",
              "#T_7233f_row3_col8, #T_7233f_row10_col6 {\n",
              "  background-color: #291a10;\n",
              "  color: #f1f1f1;\n",
              "}\n",
              "#T_7233f_row3_col9 {\n",
              "  background-color: #24170e;\n",
              "  color: #f1f1f1;\n",
              "}\n",
              "#T_7233f_row3_col10 {\n",
              "  background-color: #674129;\n",
              "  color: #f1f1f1;\n",
              "}\n",
              "#T_7233f_row4_col0, #T_7233f_row4_col1, #T_7233f_row9_col3, #T_7233f_row10_col3 {\n",
              "  background-color: #040201;\n",
              "  color: #f1f1f1;\n",
              "}\n",
              "#T_7233f_row4_col2 {\n",
              "  background-color: #74492f;\n",
              "  color: #f1f1f1;\n",
              "}\n",
              "#T_7233f_row4_col3 {\n",
              "  background-color: #050302;\n",
              "  color: #f1f1f1;\n",
              "}\n",
              "#T_7233f_row4_col5 {\n",
              "  background-color: #23160e;\n",
              "  color: #f1f1f1;\n",
              "}\n",
              "#T_7233f_row4_col7, #T_7233f_row8_col4 {\n",
              "  background-color: #392417;\n",
              "  color: #f1f1f1;\n",
              "}\n",
              "#T_7233f_row4_col9, #T_7233f_row7_col6 {\n",
              "  background-color: #2a1b11;\n",
              "  color: #f1f1f1;\n",
              "}\n",
              "#T_7233f_row5_col0, #T_7233f_row5_col1 {\n",
              "  background-color: #070503;\n",
              "  color: #f1f1f1;\n",
              "}\n",
              "#T_7233f_row5_col2, #T_7233f_row6_col2 {\n",
              "  background-color: #593824;\n",
              "  color: #f1f1f1;\n",
              "}\n",
              "#T_7233f_row5_col3, #T_7233f_row8_col0, #T_7233f_row8_col1, #T_7233f_row9_col0, #T_7233f_row9_col1 {\n",
              "  background-color: #090503;\n",
              "  color: #f1f1f1;\n",
              "}\n",
              "#T_7233f_row5_col4 {\n",
              "  background-color: #41291a;\n",
              "  color: #f1f1f1;\n",
              "}\n",
              "#T_7233f_row5_col6 {\n",
              "  background-color: #362216;\n",
              "  color: #f1f1f1;\n",
              "}\n",
              "#T_7233f_row5_col8 {\n",
              "  background-color: #301e13;\n",
              "  color: #f1f1f1;\n",
              "}\n",
              "#T_7233f_row5_col9, #T_7233f_row6_col9 {\n",
              "  background-color: #20140d;\n",
              "  color: #f1f1f1;\n",
              "}\n",
              "#T_7233f_row5_col10 {\n",
              "  background-color: #68422a;\n",
              "  color: #f1f1f1;\n",
              "}\n",
              "#T_7233f_row6_col3, #T_7233f_row10_col7 {\n",
              "  background-color: #060402;\n",
              "  color: #f1f1f1;\n",
              "}\n",
              "#T_7233f_row6_col7, #T_7233f_row7_col5, #T_7233f_row9_col8 {\n",
              "  background-color: #110b07;\n",
              "  color: #f1f1f1;\n",
              "}\n",
              "#T_7233f_row6_col10, #T_7233f_row10_col9 {\n",
              "  background-color: #5e3b26;\n",
              "  color: #f1f1f1;\n",
              "}\n",
              "#T_7233f_row7_col4 {\n",
              "  background-color: #4f3220;\n",
              "  color: #f1f1f1;\n",
              "}\n",
              "#T_7233f_row7_col8 {\n",
              "  background-color: #a46842;\n",
              "  color: #f1f1f1;\n",
              "}\n",
              "#T_7233f_row7_col9 {\n",
              "  background-color: #845435;\n",
              "  color: #f1f1f1;\n",
              "}\n",
              "#T_7233f_row7_col10 {\n",
              "  background-color: #583723;\n",
              "  color: #f1f1f1;\n",
              "}\n",
              "#T_7233f_row8_col2 {\n",
              "  background-color: #72482e;\n",
              "  color: #f1f1f1;\n",
              "}\n",
              "#T_7233f_row8_col3 {\n",
              "  background-color: #010100;\n",
              "  color: #f1f1f1;\n",
              "}\n",
              "#T_7233f_row8_col5 {\n",
              "  background-color: #170f09;\n",
              "  color: #f1f1f1;\n",
              "}\n",
              "#T_7233f_row8_col6 {\n",
              "  background-color: #25170f;\n",
              "  color: #f1f1f1;\n",
              "}\n",
              "#T_7233f_row8_col7 {\n",
              "  background-color: #9c623f;\n",
              "  color: #f1f1f1;\n",
              "}\n",
              "#T_7233f_row8_col9 {\n",
              "  background-color: #0b0704;\n",
              "  color: #f1f1f1;\n",
              "}\n",
              "#T_7233f_row9_col2 {\n",
              "  background-color: #4a2f1e;\n",
              "  color: #f1f1f1;\n",
              "}\n",
              "#T_7233f_row9_col4 {\n",
              "  background-color: #382316;\n",
              "  color: #f1f1f1;\n",
              "}\n",
              "#T_7233f_row9_col5 {\n",
              "  background-color: #0c0805;\n",
              "  color: #f1f1f1;\n",
              "}\n",
              "#T_7233f_row9_col6 {\n",
              "  background-color: #2e1d12;\n",
              "  color: #f1f1f1;\n",
              "}\n",
              "#T_7233f_row9_col7 {\n",
              "  background-color: #7d4f32;\n",
              "  color: #f1f1f1;\n",
              "}\n",
              "#T_7233f_row9_col10 {\n",
              "  background-color: #925c3b;\n",
              "  color: #f1f1f1;\n",
              "}\n",
              "#T_7233f_row10_col0, #T_7233f_row10_col1 {\n",
              "  background-color: #130c07;\n",
              "  color: #f1f1f1;\n",
              "}\n",
              "#T_7233f_row10_col4 {\n",
              "  background-color: #2f1e13;\n",
              "  color: #f1f1f1;\n",
              "}\n",
              "</style>\n",
              "<table id=\"T_7233f_\" class=\"dataframe\">\n",
              "  <thead>\n",
              "    <tr>\n",
              "      <th class=\"blank level0\" >&nbsp;</th>\n",
              "      <th class=\"col_heading level0 col0\" >article_id</th>\n",
              "      <th class=\"col_heading level0 col1\" >product_code</th>\n",
              "      <th class=\"col_heading level0 col2\" >product_type_no</th>\n",
              "      <th class=\"col_heading level0 col3\" >graphical_appearance_no</th>\n",
              "      <th class=\"col_heading level0 col4\" >colour_group_code</th>\n",
              "      <th class=\"col_heading level0 col5\" >perceived_colour_value_id</th>\n",
              "      <th class=\"col_heading level0 col6\" >perceived_colour_master_id</th>\n",
              "      <th class=\"col_heading level0 col7\" >department_no</th>\n",
              "      <th class=\"col_heading level0 col8\" >index_group_no</th>\n",
              "      <th class=\"col_heading level0 col9\" >section_no</th>\n",
              "      <th class=\"col_heading level0 col10\" >garment_group_no</th>\n",
              "    </tr>\n",
              "  </thead>\n",
              "  <tbody>\n",
              "    <tr>\n",
              "      <th id=\"T_7233f_level0_row0\" class=\"row_heading level0 row0\" >article_id</th>\n",
              "      <td id=\"T_7233f_row0_col0\" class=\"data row0 col0\" >1.000000</td>\n",
              "      <td id=\"T_7233f_row0_col1\" class=\"data row0 col1\" >1.000000</td>\n",
              "      <td id=\"T_7233f_row0_col2\" class=\"data row0 col2\" >-0.029674</td>\n",
              "      <td id=\"T_7233f_row0_col3\" class=\"data row0 col3\" >0.007993</td>\n",
              "      <td id=\"T_7233f_row0_col4\" class=\"data row0 col4\" >-0.064497</td>\n",
              "      <td id=\"T_7233f_row0_col5\" class=\"data row0 col5\" >-0.048664</td>\n",
              "      <td id=\"T_7233f_row0_col6\" class=\"data row0 col6\" >0.010208</td>\n",
              "      <td id=\"T_7233f_row0_col7\" class=\"data row0 col7\" >-0.077247</td>\n",
              "      <td id=\"T_7233f_row0_col8\" class=\"data row0 col8\" >-0.047474</td>\n",
              "      <td id=\"T_7233f_row0_col9\" class=\"data row0 col9\" >-0.044521</td>\n",
              "      <td id=\"T_7233f_row0_col10\" class=\"data row0 col10\" >-0.013408</td>\n",
              "    </tr>\n",
              "    <tr>\n",
              "      <th id=\"T_7233f_level0_row1\" class=\"row_heading level0 row1\" >product_code</th>\n",
              "      <td id=\"T_7233f_row1_col0\" class=\"data row1 col0\" >1.000000</td>\n",
              "      <td id=\"T_7233f_row1_col1\" class=\"data row1 col1\" >1.000000</td>\n",
              "      <td id=\"T_7233f_row1_col2\" class=\"data row1 col2\" >-0.029674</td>\n",
              "      <td id=\"T_7233f_row1_col3\" class=\"data row1 col3\" >0.007993</td>\n",
              "      <td id=\"T_7233f_row1_col4\" class=\"data row1 col4\" >-0.064497</td>\n",
              "      <td id=\"T_7233f_row1_col5\" class=\"data row1 col5\" >-0.048664</td>\n",
              "      <td id=\"T_7233f_row1_col6\" class=\"data row1 col6\" >0.010208</td>\n",
              "      <td id=\"T_7233f_row1_col7\" class=\"data row1 col7\" >-0.077247</td>\n",
              "      <td id=\"T_7233f_row1_col8\" class=\"data row1 col8\" >-0.047474</td>\n",
              "      <td id=\"T_7233f_row1_col9\" class=\"data row1 col9\" >-0.044521</td>\n",
              "      <td id=\"T_7233f_row1_col10\" class=\"data row1 col10\" >-0.013408</td>\n",
              "    </tr>\n",
              "    <tr>\n",
              "      <th id=\"T_7233f_level0_row2\" class=\"row_heading level0 row2\" >product_type_no</th>\n",
              "      <td id=\"T_7233f_row2_col0\" class=\"data row2 col0\" >-0.029674</td>\n",
              "      <td id=\"T_7233f_row2_col1\" class=\"data row2 col1\" >-0.029674</td>\n",
              "      <td id=\"T_7233f_row2_col2\" class=\"data row2 col2\" >1.000000</td>\n",
              "      <td id=\"T_7233f_row2_col3\" class=\"data row2 col3\" >-0.001438</td>\n",
              "      <td id=\"T_7233f_row2_col4\" class=\"data row2 col4\" >0.077929</td>\n",
              "      <td id=\"T_7233f_row2_col5\" class=\"data row2 col5\" >-0.046910</td>\n",
              "      <td id=\"T_7233f_row2_col6\" class=\"data row2 col6\" >-0.049135</td>\n",
              "      <td id=\"T_7233f_row2_col7\" class=\"data row2 col7\" >-0.001921</td>\n",
              "      <td id=\"T_7233f_row2_col8\" class=\"data row2 col8\" >0.067162</td>\n",
              "      <td id=\"T_7233f_row2_col9\" class=\"data row2 col9\" >-0.118532</td>\n",
              "      <td id=\"T_7233f_row2_col10\" class=\"data row2 col10\" >-0.461593</td>\n",
              "    </tr>\n",
              "    <tr>\n",
              "      <th id=\"T_7233f_level0_row3\" class=\"row_heading level0 row3\" >graphical_appearance_no</th>\n",
              "      <td id=\"T_7233f_row3_col0\" class=\"data row3 col0\" >0.007993</td>\n",
              "      <td id=\"T_7233f_row3_col1\" class=\"data row3 col1\" >0.007993</td>\n",
              "      <td id=\"T_7233f_row3_col2\" class=\"data row3 col2\" >-0.001438</td>\n",
              "      <td id=\"T_7233f_row3_col3\" class=\"data row3 col3\" >1.000000</td>\n",
              "      <td id=\"T_7233f_row3_col4\" class=\"data row3 col4\" >0.016824</td>\n",
              "      <td id=\"T_7233f_row3_col5\" class=\"data row3 col5\" >0.026956</td>\n",
              "      <td id=\"T_7233f_row3_col6\" class=\"data row3 col6\" >0.019440</td>\n",
              "      <td id=\"T_7233f_row3_col7\" class=\"data row3 col7\" >-0.000316</td>\n",
              "      <td id=\"T_7233f_row3_col8\" class=\"data row3 col8\" >0.004883</td>\n",
              "      <td id=\"T_7233f_row3_col9\" class=\"data row3 col9\" >0.011345</td>\n",
              "      <td id=\"T_7233f_row3_col10\" class=\"data row3 col10\" >0.013072</td>\n",
              "    </tr>\n",
              "    <tr>\n",
              "      <th id=\"T_7233f_level0_row4\" class=\"row_heading level0 row4\" >colour_group_code</th>\n",
              "      <td id=\"T_7233f_row4_col0\" class=\"data row4 col0\" >-0.064497</td>\n",
              "      <td id=\"T_7233f_row4_col1\" class=\"data row4 col1\" >-0.064497</td>\n",
              "      <td id=\"T_7233f_row4_col2\" class=\"data row4 col2\" >0.077929</td>\n",
              "      <td id=\"T_7233f_row4_col3\" class=\"data row4 col3\" >0.016824</td>\n",
              "      <td id=\"T_7233f_row4_col4\" class=\"data row4 col4\" >1.000000</td>\n",
              "      <td id=\"T_7233f_row4_col5\" class=\"data row4 col5\" >0.066724</td>\n",
              "      <td id=\"T_7233f_row4_col6\" class=\"data row4 col6\" >-0.177083</td>\n",
              "      <td id=\"T_7233f_row4_col7\" class=\"data row4 col7\" >0.119798</td>\n",
              "      <td id=\"T_7233f_row4_col8\" class=\"data row4 col8\" >0.035616</td>\n",
              "      <td id=\"T_7233f_row4_col9\" class=\"data row4 col9\" >0.032955</td>\n",
              "      <td id=\"T_7233f_row4_col10\" class=\"data row4 col10\" >-0.000316</td>\n",
              "    </tr>\n",
              "    <tr>\n",
              "      <th id=\"T_7233f_level0_row5\" class=\"row_heading level0 row5\" >perceived_colour_value_id</th>\n",
              "      <td id=\"T_7233f_row5_col0\" class=\"data row5 col0\" >-0.048664</td>\n",
              "      <td id=\"T_7233f_row5_col1\" class=\"data row5 col1\" >-0.048664</td>\n",
              "      <td id=\"T_7233f_row5_col2\" class=\"data row5 col2\" >-0.046910</td>\n",
              "      <td id=\"T_7233f_row5_col3\" class=\"data row5 col3\" >0.026956</td>\n",
              "      <td id=\"T_7233f_row5_col4\" class=\"data row5 col4\" >0.066724</td>\n",
              "      <td id=\"T_7233f_row5_col5\" class=\"data row5 col5\" >1.000000</td>\n",
              "      <td id=\"T_7233f_row5_col6\" class=\"data row5 col6\" >0.027785</td>\n",
              "      <td id=\"T_7233f_row5_col7\" class=\"data row5 col7\" >0.009986</td>\n",
              "      <td id=\"T_7233f_row5_col8\" class=\"data row5 col8\" >0.032685</td>\n",
              "      <td id=\"T_7233f_row5_col9\" class=\"data row5 col9\" >-0.004332</td>\n",
              "      <td id=\"T_7233f_row5_col10\" class=\"data row5 col10\" >0.020732</td>\n",
              "    </tr>\n",
              "    <tr>\n",
              "      <th id=\"T_7233f_level0_row6\" class=\"row_heading level0 row6\" >perceived_colour_master_id</th>\n",
              "      <td id=\"T_7233f_row6_col0\" class=\"data row6 col0\" >0.010208</td>\n",
              "      <td id=\"T_7233f_row6_col1\" class=\"data row6 col1\" >0.010208</td>\n",
              "      <td id=\"T_7233f_row6_col2\" class=\"data row6 col2\" >-0.049135</td>\n",
              "      <td id=\"T_7233f_row6_col3\" class=\"data row6 col3\" >0.019440</td>\n",
              "      <td id=\"T_7233f_row6_col4\" class=\"data row6 col4\" >-0.177083</td>\n",
              "      <td id=\"T_7233f_row6_col5\" class=\"data row6 col5\" >0.027785</td>\n",
              "      <td id=\"T_7233f_row6_col6\" class=\"data row6 col6\" >1.000000</td>\n",
              "      <td id=\"T_7233f_row6_col7\" class=\"data row6 col7\" >-0.017224</td>\n",
              "      <td id=\"T_7233f_row6_col8\" class=\"data row6 col8\" >-0.035996</td>\n",
              "      <td id=\"T_7233f_row6_col9\" class=\"data row6 col9\" >-0.002461</td>\n",
              "      <td id=\"T_7233f_row6_col10\" class=\"data row6 col10\" >-0.022573</td>\n",
              "    </tr>\n",
              "    <tr>\n",
              "      <th id=\"T_7233f_level0_row7\" class=\"row_heading level0 row7\" >department_no</th>\n",
              "      <td id=\"T_7233f_row7_col0\" class=\"data row7 col0\" >-0.077247</td>\n",
              "      <td id=\"T_7233f_row7_col1\" class=\"data row7 col1\" >-0.077247</td>\n",
              "      <td id=\"T_7233f_row7_col2\" class=\"data row7 col2\" >-0.001921</td>\n",
              "      <td id=\"T_7233f_row7_col3\" class=\"data row7 col3\" >-0.000316</td>\n",
              "      <td id=\"T_7233f_row7_col4\" class=\"data row7 col4\" >0.119798</td>\n",
              "      <td id=\"T_7233f_row7_col5\" class=\"data row7 col5\" >0.009986</td>\n",
              "      <td id=\"T_7233f_row7_col6\" class=\"data row7 col6\" >-0.017224</td>\n",
              "      <td id=\"T_7233f_row7_col7\" class=\"data row7 col7\" >1.000000</td>\n",
              "      <td id=\"T_7233f_row7_col8\" class=\"data row7 col8\" >0.453340</td>\n",
              "      <td id=\"T_7233f_row7_col9\" class=\"data row7 col9\" >0.349181</td>\n",
              "      <td id=\"T_7233f_row7_col10\" class=\"data row7 col10\" >-0.053457</td>\n",
              "    </tr>\n",
              "    <tr>\n",
              "      <th id=\"T_7233f_level0_row8\" class=\"row_heading level0 row8\" >index_group_no</th>\n",
              "      <td id=\"T_7233f_row8_col0\" class=\"data row8 col0\" >-0.047474</td>\n",
              "      <td id=\"T_7233f_row8_col1\" class=\"data row8 col1\" >-0.047474</td>\n",
              "      <td id=\"T_7233f_row8_col2\" class=\"data row8 col2\" >0.067162</td>\n",
              "      <td id=\"T_7233f_row8_col3\" class=\"data row8 col3\" >0.004883</td>\n",
              "      <td id=\"T_7233f_row8_col4\" class=\"data row8 col4\" >0.035616</td>\n",
              "      <td id=\"T_7233f_row8_col5\" class=\"data row8 col5\" >0.032685</td>\n",
              "      <td id=\"T_7233f_row8_col6\" class=\"data row8 col6\" >-0.035996</td>\n",
              "      <td id=\"T_7233f_row8_col7\" class=\"data row8 col7\" >0.453340</td>\n",
              "      <td id=\"T_7233f_row8_col8\" class=\"data row8 col8\" >1.000000</td>\n",
              "      <td id=\"T_7233f_row8_col9\" class=\"data row8 col9\" >-0.077389</td>\n",
              "      <td id=\"T_7233f_row8_col10\" class=\"data row8 col10\" >-0.144313</td>\n",
              "    </tr>\n",
              "    <tr>\n",
              "      <th id=\"T_7233f_level0_row9\" class=\"row_heading level0 row9\" >section_no</th>\n",
              "      <td id=\"T_7233f_row9_col0\" class=\"data row9 col0\" >-0.044521</td>\n",
              "      <td id=\"T_7233f_row9_col1\" class=\"data row9 col1\" >-0.044521</td>\n",
              "      <td id=\"T_7233f_row9_col2\" class=\"data row9 col2\" >-0.118532</td>\n",
              "      <td id=\"T_7233f_row9_col3\" class=\"data row9 col3\" >0.011345</td>\n",
              "      <td id=\"T_7233f_row9_col4\" class=\"data row9 col4\" >0.032955</td>\n",
              "      <td id=\"T_7233f_row9_col5\" class=\"data row9 col5\" >-0.004332</td>\n",
              "      <td id=\"T_7233f_row9_col6\" class=\"data row9 col6\" >-0.002461</td>\n",
              "      <td id=\"T_7233f_row9_col7\" class=\"data row9 col7\" >0.349181</td>\n",
              "      <td id=\"T_7233f_row9_col8\" class=\"data row9 col8\" >-0.077389</td>\n",
              "      <td id=\"T_7233f_row9_col9\" class=\"data row9 col9\" >1.000000</td>\n",
              "      <td id=\"T_7233f_row9_col10\" class=\"data row9 col10\" >0.217788</td>\n",
              "    </tr>\n",
              "    <tr>\n",
              "      <th id=\"T_7233f_level0_row10\" class=\"row_heading level0 row10\" >garment_group_no</th>\n",
              "      <td id=\"T_7233f_row10_col0\" class=\"data row10 col0\" >-0.013408</td>\n",
              "      <td id=\"T_7233f_row10_col1\" class=\"data row10 col1\" >-0.013408</td>\n",
              "      <td id=\"T_7233f_row10_col2\" class=\"data row10 col2\" >-0.461593</td>\n",
              "      <td id=\"T_7233f_row10_col3\" class=\"data row10 col3\" >0.013072</td>\n",
              "      <td id=\"T_7233f_row10_col4\" class=\"data row10 col4\" >-0.000316</td>\n",
              "      <td id=\"T_7233f_row10_col5\" class=\"data row10 col5\" >0.020732</td>\n",
              "      <td id=\"T_7233f_row10_col6\" class=\"data row10 col6\" >-0.022573</td>\n",
              "      <td id=\"T_7233f_row10_col7\" class=\"data row10 col7\" >-0.053457</td>\n",
              "      <td id=\"T_7233f_row10_col8\" class=\"data row10 col8\" >-0.144313</td>\n",
              "      <td id=\"T_7233f_row10_col9\" class=\"data row10 col9\" >0.217788</td>\n",
              "      <td id=\"T_7233f_row10_col10\" class=\"data row10 col10\" >1.000000</td>\n",
              "    </tr>\n",
              "  </tbody>\n",
              "</table>\n"
            ]
          },
          "metadata": {},
          "execution_count": 13
        }
      ]
    },
    {
      "cell_type": "code",
      "source": [
        "#Heatmap\n",
        "corrmat = articles.corr()\n",
        "f, ax = plt.subplots(figsize=(15,15))\n",
        "sns.heatmap(corrmat, square=True, annot = True, annot_kws={'size':10})"
      ],
      "metadata": {
        "execution": {
          "iopub.status.busy": "2022-04-16T04:46:21.038856Z",
          "iopub.execute_input": "2022-04-16T04:46:21.039128Z",
          "iopub.status.idle": "2022-04-16T04:46:22.200209Z",
          "shell.execute_reply.started": "2022-04-16T04:46:21.039097Z",
          "shell.execute_reply": "2022-04-16T04:46:22.199160Z"
        },
        "trusted": true,
        "id": "n7F1p1xHWMUb",
        "outputId": "f57c5cb9-afb9-4c85-f498-aa73c7eb12e8",
        "colab": {
          "base_uri": "https://localhost:8080/",
          "height": 901
        }
      },
      "execution_count": 14,
      "outputs": [
        {
          "output_type": "execute_result",
          "data": {
            "text/plain": [
              "<matplotlib.axes._subplots.AxesSubplot at 0x7f5a2b0a6e90>"
            ]
          },
          "metadata": {},
          "execution_count": 14
        },
        {
          "output_type": "display_data",
          "data": {
            "text/plain": [
              "<Figure size 1080x1080 with 2 Axes>"
            ],
            "image/png": "[encoded data removed]"
          },
          "metadata": {
            "needs_background": "light"
          }
        }
      ]
    },
    {
      "cell_type": "code",
      "source": [
        "articles.plot()"
      ],
      "metadata": {
        "execution": {
          "iopub.status.busy": "2022-04-16T04:46:22.201957Z",
          "iopub.execute_input": "2022-04-16T04:46:22.202296Z",
          "iopub.status.idle": "2022-04-16T04:46:27.552495Z",
          "shell.execute_reply.started": "2022-04-16T04:46:22.202252Z",
          "shell.execute_reply": "2022-04-16T04:46:27.551572Z"
        },
        "trusted": true,
        "id": "_YcQHS8pWMUc",
        "outputId": "61a05c31-e1c8-4f76-fa27-76c9fa1b6253"
      },
      "execution_count": null,
      "outputs": [
        {
          "execution_count": 31,
          "output_type": "execute_result",
          "data": {
            "text/plain": "<AxesSubplot:>"
          },
          "metadata": {}
        },
        {
          "output_type": "display_data",
          "data": {
            "text/plain": "<Figure size 432x288 with 1 Axes>",
            "image/png": "[encoded data removed]"
          },
          "metadata": {
            "needs_background": "light"
          }
        }
      ]
    },
    {
      "cell_type": "markdown",
      "source": [
        "**customers**"
      ],
      "metadata": {
        "id": "iU_zFOJ-WMUd"
      }
    },
    {
      "cell_type": "code",
      "source": [
        "customers= pd.read_csv('/kaggle/input/h-and-m-personalized-fashion-recommendations/customers.csv')"
      ],
      "metadata": {
        "execution": {
          "iopub.status.busy": "2022-04-16T04:46:27.555159Z",
          "iopub.execute_input": "2022-04-16T04:46:27.555385Z",
          "iopub.status.idle": "2022-04-16T04:46:30.940693Z",
          "shell.execute_reply.started": "2022-04-16T04:46:27.555358Z",
          "shell.execute_reply": "2022-04-16T04:46:30.939780Z"
        },
        "trusted": true,
        "id": "KzXfjsclWMUe"
      },
      "execution_count": null,
      "outputs": []
    },
    {
      "cell_type": "code",
      "source": [
        "customers.head()"
      ],
      "metadata": {
        "execution": {
          "iopub.status.busy": "2022-04-16T04:46:30.942779Z",
          "iopub.execute_input": "2022-04-16T04:46:30.943144Z",
          "iopub.status.idle": "2022-04-16T04:46:30.957696Z",
          "shell.execute_reply.started": "2022-04-16T04:46:30.943098Z",
          "shell.execute_reply": "2022-04-16T04:46:30.956691Z"
        },
        "trusted": true,
        "id": "_7nXR6xxWMUe",
        "outputId": "8b14a112-b9a5-4c1c-cea6-a5bae6835fc4"
      },
      "execution_count": null,
      "outputs": [
        {
          "execution_count": 33,
          "output_type": "execute_result",
          "data": {
            "text/plain": "                                         customer_id   FN  Active  \\\n0  00000dbacae5abe5e23885899a1fa44253a17956c6d1c3...  NaN     NaN   \n1  0000423b00ade91418cceaf3b26c6af3dd342b51fd051e...  NaN     NaN   \n2  000058a12d5b43e67d225668fa1f8d618c13dc232df0ca...  NaN     NaN   \n3  00005ca1c9ed5f5146b52ac8639a40ca9d57aeff4d1bd2...  NaN     NaN   \n4  00006413d8573cd20ed7128e53b7b13819fe5cfc2d801f...  1.0     1.0   \n\n  club_member_status fashion_news_frequency   age  \\\n0             ACTIVE                   NONE  49.0   \n1             ACTIVE                   NONE  25.0   \n2             ACTIVE                   NONE  24.0   \n3             ACTIVE                   NONE  54.0   \n4             ACTIVE              Regularly  52.0   \n\n                                         postal_code  \n0  52043ee2162cf5aa7ee79974281641c6f11a68d276429a...  \n1  2973abc54daa8a5f8ccfe9362140c63247c5eee03f1d93...  \n2  64f17e6a330a85798e4998f62d0930d14db8db1c054af6...  \n3  5d36574f52495e81f019b680c843c443bd343d5ca5b1c2...  \n4  25fa5ddee9aac01b35208d01736e57942317d756b32ddd...  ",
            "text/html": "<div>\n<style scoped>\n    .dataframe tbody tr th:only-of-type {\n        vertical-align: middle;\n    }\n\n    .dataframe tbody tr th {\n        vertical-align: top;\n    }\n\n    .dataframe thead th {\n        text-align: right;\n    }\n</style>\n<table border=\"1\" class=\"dataframe\">\n  <thead>\n    <tr style=\"text-align: right;\">\n      <th></th>\n      <th>customer_id</th>\n      <th>FN</th>\n      <th>Active</th>\n      <th>club_member_status</th>\n      <th>fashion_news_frequency</th>\n      <th>age</th>\n      <th>postal_code</th>\n    </tr>\n  </thead>\n  <tbody>\n    <tr>\n      <th>0</th>\n      <td>00000dbacae5abe5e23885899a1fa44253a17956c6d1c3...</td>\n      <td>NaN</td>\n      <td>NaN</td>\n      <td>ACTIVE</td>\n      <td>NONE</td>\n      <td>49.0</td>\n      <td>52043ee2162cf5aa7ee79974281641c6f11a68d276429a...</td>\n    </tr>\n    <tr>\n      <th>1</th>\n      <td>0000423b00ade91418cceaf3b26c6af3dd342b51fd051e...</td>\n      <td>NaN</td>\n      <td>NaN</td>\n      <td>ACTIVE</td>\n      <td>NONE</td>\n      <td>25.0</td>\n      <td>2973abc54daa8a5f8ccfe9362140c63247c5eee03f1d93...</td>\n    </tr>\n    <tr>\n      <th>2</th>\n      <td>000058a12d5b43e67d225668fa1f8d618c13dc232df0ca...</td>\n      <td>NaN</td>\n      <td>NaN</td>\n      <td>ACTIVE</td>\n      <td>NONE</td>\n      <td>24.0</td>\n      <td>64f17e6a330a85798e4998f62d0930d14db8db1c054af6...</td>\n    </tr>\n    <tr>\n      <th>3</th>\n      <td>00005ca1c9ed5f5146b52ac8639a40ca9d57aeff4d1bd2...</td>\n      <td>NaN</td>\n      <td>NaN</td>\n      <td>ACTIVE</td>\n      <td>NONE</td>\n      <td>54.0</td>\n      <td>5d36574f52495e81f019b680c843c443bd343d5ca5b1c2...</td>\n    </tr>\n    <tr>\n      <th>4</th>\n      <td>00006413d8573cd20ed7128e53b7b13819fe5cfc2d801f...</td>\n      <td>1.0</td>\n      <td>1.0</td>\n      <td>ACTIVE</td>\n      <td>Regularly</td>\n      <td>52.0</td>\n      <td>25fa5ddee9aac01b35208d01736e57942317d756b32ddd...</td>\n    </tr>\n  </tbody>\n</table>\n</div>"
          },
          "metadata": {}
        }
      ]
    },
    {
      "cell_type": "code",
      "source": [
        "customers.shape"
      ],
      "metadata": {
        "execution": {
          "iopub.status.busy": "2022-04-16T04:46:30.959559Z",
          "iopub.execute_input": "2022-04-16T04:46:30.960047Z",
          "iopub.status.idle": "2022-04-16T04:46:30.968793Z",
          "shell.execute_reply.started": "2022-04-16T04:46:30.960009Z",
          "shell.execute_reply": "2022-04-16T04:46:30.967990Z"
        },
        "trusted": true,
        "id": "_fuodW41WMUf",
        "outputId": "1142eaf3-c6c4-4833-9c47-c54e4fafa4b8"
      },
      "execution_count": null,
      "outputs": [
        {
          "execution_count": 34,
          "output_type": "execute_result",
          "data": {
            "text/plain": "(1371980, 7)"
          },
          "metadata": {}
        }
      ]
    },
    {
      "cell_type": "code",
      "source": [
        "customers.info"
      ],
      "metadata": {
        "execution": {
          "iopub.status.busy": "2022-04-16T04:46:30.970197Z",
          "iopub.execute_input": "2022-04-16T04:46:30.970718Z",
          "iopub.status.idle": "2022-04-16T04:46:30.987667Z",
          "shell.execute_reply.started": "2022-04-16T04:46:30.970684Z",
          "shell.execute_reply": "2022-04-16T04:46:30.987099Z"
        },
        "trusted": true,
        "id": "5MNRN3gvWMUg",
        "outputId": "eeb3b1c9-0202-4a24-b7c0-b44256f1ce13"
      },
      "execution_count": null,
      "outputs": [
        {
          "execution_count": 35,
          "output_type": "execute_result",
          "data": {
            "text/plain": "<bound method DataFrame.info of                                                customer_id   FN  Active  \\\n0        00000dbacae5abe5e23885899a1fa44253a17956c6d1c3...  NaN     NaN   \n1        0000423b00ade91418cceaf3b26c6af3dd342b51fd051e...  NaN     NaN   \n2        000058a12d5b43e67d225668fa1f8d618c13dc232df0ca...  NaN     NaN   \n3        00005ca1c9ed5f5146b52ac8639a40ca9d57aeff4d1bd2...  NaN     NaN   \n4        00006413d8573cd20ed7128e53b7b13819fe5cfc2d801f...  1.0     1.0   \n...                                                    ...  ...     ...   \n1371975  ffffbbf78b6eaac697a8a5dfbfd2bfa8113ee5b403e474...  NaN     NaN   \n1371976  ffffcd5046a6143d29a04fb8c424ce494a76e5cdf4fab5...  NaN     NaN   \n1371977  ffffcf35913a0bee60e8741cb2b4e78b8a98ee5ff2e6a1...  1.0     1.0   \n1371978  ffffd7744cebcf3aca44ae7049d2a94b87074c3d4ffe38...  1.0     1.0   \n1371979  ffffd9ac14e89946416d80e791d064701994755c3ab686...  NaN     NaN   \n\n        club_member_status fashion_news_frequency   age  \\\n0                   ACTIVE                   NONE  49.0   \n1                   ACTIVE                   NONE  25.0   \n2                   ACTIVE                   NONE  24.0   \n3                   ACTIVE                   NONE  54.0   \n4                   ACTIVE              Regularly  52.0   \n...                    ...                    ...   ...   \n1371975             ACTIVE                   NONE  24.0   \n1371976             ACTIVE                   NONE  21.0   \n1371977             ACTIVE              Regularly  21.0   \n1371978             ACTIVE              Regularly  18.0   \n1371979         PRE-CREATE                   NONE  65.0   \n\n                                               postal_code  \n0        52043ee2162cf5aa7ee79974281641c6f11a68d276429a...  \n1        2973abc54daa8a5f8ccfe9362140c63247c5eee03f1d93...  \n2        64f17e6a330a85798e4998f62d0930d14db8db1c054af6...  \n3        5d36574f52495e81f019b680c843c443bd343d5ca5b1c2...  \n4        25fa5ddee9aac01b35208d01736e57942317d756b32ddd...  \n...                                                    ...  \n1371975  7aa399f7e669990daba2d92c577b52237380662f36480b...  \n1371976  3f47f1279beb72215f4de557d950e0bfa73789d24acb5e...  \n1371977  4563fc79215672cd6a863f2b4bf56b8f898f2d96ed590e...  \n1371978  8892c18e9bc3dca6aa4000cb8094fc4b51ee8db2ed14d7...  \n1371979  0a1a03306fb2f62164c2a439b38c0caa64b40deaae8687...  \n\n[1371980 rows x 7 columns]>"
          },
          "metadata": {}
        }
      ]
    },
    {
      "cell_type": "code",
      "source": [
        "customers.isnull().sum()"
      ],
      "metadata": {
        "execution": {
          "iopub.status.busy": "2022-04-16T04:46:30.988615Z",
          "iopub.execute_input": "2022-04-16T04:46:30.989216Z",
          "iopub.status.idle": "2022-04-16T04:46:31.281391Z",
          "shell.execute_reply.started": "2022-04-16T04:46:30.989182Z",
          "shell.execute_reply": "2022-04-16T04:46:31.280540Z"
        },
        "trusted": true,
        "id": "9hzhQ_0JWMUh",
        "outputId": "70a74ba5-2b6d-4b3b-d6a8-43132128af7e"
      },
      "execution_count": null,
      "outputs": [
        {
          "execution_count": 36,
          "output_type": "execute_result",
          "data": {
            "text/plain": "customer_id                    0\nFN                        895050\nActive                    907576\nclub_member_status          6062\nfashion_news_frequency     16009\nage                        15861\npostal_code                    0\ndtype: int64"
          },
          "metadata": {}
        }
      ]
    },
    {
      "cell_type": "code",
      "source": [
        "corr = articles.corr()\n",
        "corr.style.background_gradient (cmap = \"copper_r\")"
      ],
      "metadata": {
        "execution": {
          "iopub.status.busy": "2022-04-16T04:46:31.282955Z",
          "iopub.execute_input": "2022-04-16T04:46:31.283428Z",
          "iopub.status.idle": "2022-04-16T04:46:31.357935Z",
          "shell.execute_reply.started": "2022-04-16T04:46:31.283385Z",
          "shell.execute_reply": "2022-04-16T04:46:31.357072Z"
        },
        "trusted": true,
        "id": "Aa8Y1MK0WMUh",
        "outputId": "dbef13f9-e689-4bb4-ce68-c53eab184f5d"
      },
      "execution_count": null,
      "outputs": [
        {
          "execution_count": 37,
          "output_type": "execute_result",
          "data": {
            "text/plain": "<pandas.io.formats.style.Styler at 0x7f485baacad0>",
            "text/html": "<style type=\"text/css\">\n#T_24e04_row0_col0, #T_24e04_row0_col1, #T_24e04_row1_col0, #T_24e04_row1_col1, #T_24e04_row2_col2, #T_24e04_row3_col3, #T_24e04_row4_col4, #T_24e04_row5_col5, #T_24e04_row6_col6, #T_24e04_row7_col7, #T_24e04_row8_col8, #T_24e04_row9_col9, #T_24e04_row10_col10 {\n  background-color: #000000;\n  color: #f1f1f1;\n}\n#T_24e04_row0_col2, #T_24e04_row1_col2 {\n  background-color: #de8d5a;\n  color: #f1f1f1;\n}\n#T_24e04_row0_col3, #T_24e04_row1_col3, #T_24e04_row8_col3 {\n  background-color: #ffc67e;\n  color: #000000;\n}\n#T_24e04_row0_col4, #T_24e04_row1_col4, #T_24e04_row6_col8 {\n  background-color: #ffb473;\n  color: #000000;\n}\n#T_24e04_row0_col5, #T_24e04_row0_col7, #T_24e04_row1_col5, #T_24e04_row1_col7, #T_24e04_row2_col3, #T_24e04_row2_col5, #T_24e04_row2_col9, #T_24e04_row2_col10, #T_24e04_row4_col6, #T_24e04_row6_col4, #T_24e04_row7_col0, #T_24e04_row7_col1, #T_24e04_row7_col3, #T_24e04_row10_col2, #T_24e04_row10_col8 {\n  background-color: #ffc77f;\n  color: #000000;\n}\n#T_24e04_row0_col6, #T_24e04_row1_col6, #T_24e04_row4_col8 {\n  background-color: #ffa86b;\n  color: #000000;\n}\n#T_24e04_row0_col8, #T_24e04_row1_col8 {\n  background-color: #ffb774;\n  color: #000000;\n}\n#T_24e04_row0_col9, #T_24e04_row1_col9, #T_24e04_row10_col0, #T_24e04_row10_col1, #T_24e04_row10_col5 {\n  background-color: #ffbb77;\n  color: #000000;\n}\n#T_24e04_row0_col10, #T_24e04_row1_col10 {\n  background-color: #db8a58;\n  color: #f1f1f1;\n}\n#T_24e04_row2_col0, #T_24e04_row2_col1 {\n  background-color: #ffbf79;\n  color: #000000;\n}\n#T_24e04_row2_col4, #T_24e04_row8_col10 {\n  background-color: #f79c64;\n  color: #000000;\n}\n#T_24e04_row2_col6 {\n  background-color: #ffb271;\n  color: #000000;\n}\n#T_24e04_row2_col7 {\n  background-color: #ffba76;\n  color: #000000;\n}\n#T_24e04_row2_col8 {\n  background-color: #ffa267;\n  color: #000000;\n}\n#T_24e04_row3_col0, #T_24e04_row3_col1, #T_24e04_row5_col7, #T_24e04_row6_col0, #T_24e04_row6_col1, #T_24e04_row8_col5 {\n  background-color: #ffb875;\n  color: #000000;\n}\n#T_24e04_row3_col2, #T_24e04_row4_col10, #T_24e04_row7_col2 {\n  background-color: #d88957;\n  color: #f1f1f1;\n}\n#T_24e04_row3_col4, #T_24e04_row3_col6 {\n  background-color: #ffa66a;\n  color: #000000;\n}\n#T_24e04_row3_col5, #T_24e04_row3_col7, #T_24e04_row6_col5 {\n  background-color: #ffb976;\n  color: #000000;\n}\n#T_24e04_row3_col8, #T_24e04_row4_col9, #T_24e04_row7_col6, #T_24e04_row10_col6 {\n  background-color: #ffad6e;\n  color: #000000;\n}\n#T_24e04_row3_col9 {\n  background-color: #ffb170;\n  color: #000000;\n}\n#T_24e04_row3_col10 {\n  background-color: #d48656;\n  color: #f1f1f1;\n}\n#T_24e04_row4_col0, #T_24e04_row4_col1, #T_24e04_row9_col3, #T_24e04_row10_col3 {\n  background-color: #ffc57d;\n  color: #000000;\n}\n#T_24e04_row4_col2 {\n  background-color: #c77e50;\n  color: #f1f1f1;\n}\n#T_24e04_row4_col3 {\n  background-color: #ffc47d;\n  color: #000000;\n}\n#T_24e04_row4_col5 {\n  background-color: #ffb171;\n  color: #000000;\n}\n#T_24e04_row4_col7, #T_24e04_row8_col4 {\n  background-color: #ffa368;\n  color: #000000;\n}\n#T_24e04_row5_col0, #T_24e04_row5_col1, #T_24e04_row6_col3, #T_24e04_row10_col7 {\n  background-color: #ffc37c;\n  color: #000000;\n}\n#T_24e04_row5_col2, #T_24e04_row6_col2 {\n  background-color: #e28f5b;\n  color: #f1f1f1;\n}\n#T_24e04_row5_col3, #T_24e04_row8_col0, #T_24e04_row8_col1, #T_24e04_row9_col0, #T_24e04_row9_col1 {\n  background-color: #ffc27b;\n  color: #000000;\n}\n#T_24e04_row5_col4 {\n  background-color: #fa9e64;\n  color: #000000;\n}\n#T_24e04_row5_col6 {\n  background-color: #ffa569;\n  color: #000000;\n}\n#T_24e04_row5_col8 {\n  background-color: #ffa96b;\n  color: #000000;\n}\n#T_24e04_row5_col9, #T_24e04_row6_col9 {\n  background-color: #ffb372;\n  color: #000000;\n}\n#T_24e04_row5_col10 {\n  background-color: #d38655;\n  color: #f1f1f1;\n}\n#T_24e04_row6_col7, #T_24e04_row7_col5, #T_24e04_row9_col8 {\n  background-color: #ffbc78;\n  color: #000000;\n}\n#T_24e04_row6_col10, #T_24e04_row10_col9 {\n  background-color: #dd8c59;\n  color: #f1f1f1;\n}\n#T_24e04_row7_col4 {\n  background-color: #ec955f;\n  color: #f1f1f1;\n}\n#T_24e04_row7_col8 {\n  background-color: #975f3d;\n  color: #f1f1f1;\n}\n#T_24e04_row7_col9 {\n  background-color: #b7744a;\n  color: #f1f1f1;\n}\n#T_24e04_row7_col10 {\n  background-color: #e3905c;\n  color: #f1f1f1;\n}\n#T_24e04_row8_col2 {\n  background-color: #c97f51;\n  color: #f1f1f1;\n}\n#T_24e04_row8_col6 {\n  background-color: #ffb070;\n  color: #000000;\n}\n#T_24e04_row8_col7 {\n  background-color: #9f6540;\n  color: #f1f1f1;\n}\n#T_24e04_row8_col9 {\n  background-color: #ffc07a;\n  color: #000000;\n}\n#T_24e04_row9_col2 {\n  background-color: #f19861;\n  color: #000000;\n}\n#T_24e04_row9_col4 {\n  background-color: #ffa468;\n  color: #000000;\n}\n#T_24e04_row9_col5 {\n  background-color: #ffbf7a;\n  color: #000000;\n}\n#T_24e04_row9_col6, #T_24e04_row10_col4 {\n  background-color: #ffaa6c;\n  color: #000000;\n}\n#T_24e04_row9_col7 {\n  background-color: #be784d;\n  color: #f1f1f1;\n}\n#T_24e04_row9_col10 {\n  background-color: #a96b44;\n  color: #f1f1f1;\n}\n</style>\n<table id=\"T_24e04_\">\n  <thead>\n    <tr>\n      <th class=\"blank level0\" >&nbsp;</th>\n      <th class=\"col_heading level0 col0\" >article_id</th>\n      <th class=\"col_heading level0 col1\" >product_code</th>\n      <th class=\"col_heading level0 col2\" >product_type_no</th>\n      <th class=\"col_heading level0 col3\" >graphical_appearance_no</th>\n      <th class=\"col_heading level0 col4\" >colour_group_code</th>\n      <th class=\"col_heading level0 col5\" >perceived_colour_value_id</th>\n      <th class=\"col_heading level0 col6\" >perceived_colour_master_id</th>\n      <th class=\"col_heading level0 col7\" >department_no</th>\n      <th class=\"col_heading level0 col8\" >index_group_no</th>\n      <th class=\"col_heading level0 col9\" >section_no</th>\n      <th class=\"col_heading level0 col10\" >garment_group_no</th>\n    </tr>\n  </thead>\n  <tbody>\n    <tr>\n      <th id=\"T_24e04_level0_row0\" class=\"row_heading level0 row0\" >article_id</th>\n      <td id=\"T_24e04_row0_col0\" class=\"data row0 col0\" >1.000000</td>\n      <td id=\"T_24e04_row0_col1\" class=\"data row0 col1\" >1.000000</td>\n      <td id=\"T_24e04_row0_col2\" class=\"data row0 col2\" >-0.029674</td>\n      <td id=\"T_24e04_row0_col3\" class=\"data row0 col3\" >0.007993</td>\n      <td id=\"T_24e04_row0_col4\" class=\"data row0 col4\" >-0.064497</td>\n      <td id=\"T_24e04_row0_col5\" class=\"data row0 col5\" >-0.048664</td>\n      <td id=\"T_24e04_row0_col6\" class=\"data row0 col6\" >0.010208</td>\n      <td id=\"T_24e04_row0_col7\" class=\"data row0 col7\" >-0.077247</td>\n      <td id=\"T_24e04_row0_col8\" class=\"data row0 col8\" >-0.047474</td>\n      <td id=\"T_24e04_row0_col9\" class=\"data row0 col9\" >-0.044521</td>\n      <td id=\"T_24e04_row0_col10\" class=\"data row0 col10\" >-0.013408</td>\n    </tr>\n    <tr>\n      <th id=\"T_24e04_level0_row1\" class=\"row_heading level0 row1\" >product_code</th>\n      <td id=\"T_24e04_row1_col0\" class=\"data row1 col0\" >1.000000</td>\n      <td id=\"T_24e04_row1_col1\" class=\"data row1 col1\" >1.000000</td>\n      <td id=\"T_24e04_row1_col2\" class=\"data row1 col2\" >-0.029674</td>\n      <td id=\"T_24e04_row1_col3\" class=\"data row1 col3\" >0.007993</td>\n      <td id=\"T_24e04_row1_col4\" class=\"data row1 col4\" >-0.064497</td>\n      <td id=\"T_24e04_row1_col5\" class=\"data row1 col5\" >-0.048664</td>\n      <td id=\"T_24e04_row1_col6\" class=\"data row1 col6\" >0.010208</td>\n      <td id=\"T_24e04_row1_col7\" class=\"data row1 col7\" >-0.077247</td>\n      <td id=\"T_24e04_row1_col8\" class=\"data row1 col8\" >-0.047474</td>\n      <td id=\"T_24e04_row1_col9\" class=\"data row1 col9\" >-0.044521</td>\n      <td id=\"T_24e04_row1_col10\" class=\"data row1 col10\" >-0.013408</td>\n    </tr>\n    <tr>\n      <th id=\"T_24e04_level0_row2\" class=\"row_heading level0 row2\" >product_type_no</th>\n      <td id=\"T_24e04_row2_col0\" class=\"data row2 col0\" >-0.029674</td>\n      <td id=\"T_24e04_row2_col1\" class=\"data row2 col1\" >-0.029674</td>\n      <td id=\"T_24e04_row2_col2\" class=\"data row2 col2\" >1.000000</td>\n      <td id=\"T_24e04_row2_col3\" class=\"data row2 col3\" >-0.001438</td>\n      <td id=\"T_24e04_row2_col4\" class=\"data row2 col4\" >0.077929</td>\n      <td id=\"T_24e04_row2_col5\" class=\"data row2 col5\" >-0.046910</td>\n      <td id=\"T_24e04_row2_col6\" class=\"data row2 col6\" >-0.049135</td>\n      <td id=\"T_24e04_row2_col7\" class=\"data row2 col7\" >-0.001921</td>\n      <td id=\"T_24e04_row2_col8\" class=\"data row2 col8\" >0.067162</td>\n      <td id=\"T_24e04_row2_col9\" class=\"data row2 col9\" >-0.118532</td>\n      <td id=\"T_24e04_row2_col10\" class=\"data row2 col10\" >-0.461593</td>\n    </tr>\n    <tr>\n      <th id=\"T_24e04_level0_row3\" class=\"row_heading level0 row3\" >graphical_appearance_no</th>\n      <td id=\"T_24e04_row3_col0\" class=\"data row3 col0\" >0.007993</td>\n      <td id=\"T_24e04_row3_col1\" class=\"data row3 col1\" >0.007993</td>\n      <td id=\"T_24e04_row3_col2\" class=\"data row3 col2\" >-0.001438</td>\n      <td id=\"T_24e04_row3_col3\" class=\"data row3 col3\" >1.000000</td>\n      <td id=\"T_24e04_row3_col4\" class=\"data row3 col4\" >0.016824</td>\n      <td id=\"T_24e04_row3_col5\" class=\"data row3 col5\" >0.026956</td>\n      <td id=\"T_24e04_row3_col6\" class=\"data row3 col6\" >0.019440</td>\n      <td id=\"T_24e04_row3_col7\" class=\"data row3 col7\" >-0.000316</td>\n      <td id=\"T_24e04_row3_col8\" class=\"data row3 col8\" >0.004883</td>\n      <td id=\"T_24e04_row3_col9\" class=\"data row3 col9\" >0.011345</td>\n      <td id=\"T_24e04_row3_col10\" class=\"data row3 col10\" >0.013072</td>\n    </tr>\n    <tr>\n      <th id=\"T_24e04_level0_row4\" class=\"row_heading level0 row4\" >colour_group_code</th>\n      <td id=\"T_24e04_row4_col0\" class=\"data row4 col0\" >-0.064497</td>\n      <td id=\"T_24e04_row4_col1\" class=\"data row4 col1\" >-0.064497</td>\n      <td id=\"T_24e04_row4_col2\" class=\"data row4 col2\" >0.077929</td>\n      <td id=\"T_24e04_row4_col3\" class=\"data row4 col3\" >0.016824</td>\n      <td id=\"T_24e04_row4_col4\" class=\"data row4 col4\" >1.000000</td>\n      <td id=\"T_24e04_row4_col5\" class=\"data row4 col5\" >0.066724</td>\n      <td id=\"T_24e04_row4_col6\" class=\"data row4 col6\" >-0.177083</td>\n      <td id=\"T_24e04_row4_col7\" class=\"data row4 col7\" >0.119798</td>\n      <td id=\"T_24e04_row4_col8\" class=\"data row4 col8\" >0.035616</td>\n      <td id=\"T_24e04_row4_col9\" class=\"data row4 col9\" >0.032955</td>\n      <td id=\"T_24e04_row4_col10\" class=\"data row4 col10\" >-0.000316</td>\n    </tr>\n    <tr>\n      <th id=\"T_24e04_level0_row5\" class=\"row_heading level0 row5\" >perceived_colour_value_id</th>\n      <td id=\"T_24e04_row5_col0\" class=\"data row5 col0\" >-0.048664</td>\n      <td id=\"T_24e04_row5_col1\" class=\"data row5 col1\" >-0.048664</td>\n      <td id=\"T_24e04_row5_col2\" class=\"data row5 col2\" >-0.046910</td>\n      <td id=\"T_24e04_row5_col3\" class=\"data row5 col3\" >0.026956</td>\n      <td id=\"T_24e04_row5_col4\" class=\"data row5 col4\" >0.066724</td>\n      <td id=\"T_24e04_row5_col5\" class=\"data row5 col5\" >1.000000</td>\n      <td id=\"T_24e04_row5_col6\" class=\"data row5 col6\" >0.027785</td>\n      <td id=\"T_24e04_row5_col7\" class=\"data row5 col7\" >0.009986</td>\n      <td id=\"T_24e04_row5_col8\" class=\"data row5 col8\" >0.032685</td>\n      <td id=\"T_24e04_row5_col9\" class=\"data row5 col9\" >-0.004332</td>\n      <td id=\"T_24e04_row5_col10\" class=\"data row5 col10\" >0.020732</td>\n    </tr>\n    <tr>\n      <th id=\"T_24e04_level0_row6\" class=\"row_heading level0 row6\" >perceived_colour_master_id</th>\n      <td id=\"T_24e04_row6_col0\" class=\"data row6 col0\" >0.010208</td>\n      <td id=\"T_24e04_row6_col1\" class=\"data row6 col1\" >0.010208</td>\n      <td id=\"T_24e04_row6_col2\" class=\"data row6 col2\" >-0.049135</td>\n      <td id=\"T_24e04_row6_col3\" class=\"data row6 col3\" >0.019440</td>\n      <td id=\"T_24e04_row6_col4\" class=\"data row6 col4\" >-0.177083</td>\n      <td id=\"T_24e04_row6_col5\" class=\"data row6 col5\" >0.027785</td>\n      <td id=\"T_24e04_row6_col6\" class=\"data row6 col6\" >1.000000</td>\n      <td id=\"T_24e04_row6_col7\" class=\"data row6 col7\" >-0.017224</td>\n      <td id=\"T_24e04_row6_col8\" class=\"data row6 col8\" >-0.035996</td>\n      <td id=\"T_24e04_row6_col9\" class=\"data row6 col9\" >-0.002461</td>\n      <td id=\"T_24e04_row6_col10\" class=\"data row6 col10\" >-0.022573</td>\n    </tr>\n    <tr>\n      <th id=\"T_24e04_level0_row7\" class=\"row_heading level0 row7\" >department_no</th>\n      <td id=\"T_24e04_row7_col0\" class=\"data row7 col0\" >-0.077247</td>\n      <td id=\"T_24e04_row7_col1\" class=\"data row7 col1\" >-0.077247</td>\n      <td id=\"T_24e04_row7_col2\" class=\"data row7 col2\" >-0.001921</td>\n      <td id=\"T_24e04_row7_col3\" class=\"data row7 col3\" >-0.000316</td>\n      <td id=\"T_24e04_row7_col4\" class=\"data row7 col4\" >0.119798</td>\n      <td id=\"T_24e04_row7_col5\" class=\"data row7 col5\" >0.009986</td>\n      <td id=\"T_24e04_row7_col6\" class=\"data row7 col6\" >-0.017224</td>\n      <td id=\"T_24e04_row7_col7\" class=\"data row7 col7\" >1.000000</td>\n      <td id=\"T_24e04_row7_col8\" class=\"data row7 col8\" >0.453340</td>\n      <td id=\"T_24e04_row7_col9\" class=\"data row7 col9\" >0.349181</td>\n      <td id=\"T_24e04_row7_col10\" class=\"data row7 col10\" >-0.053457</td>\n    </tr>\n    <tr>\n      <th id=\"T_24e04_level0_row8\" class=\"row_heading level0 row8\" >index_group_no</th>\n      <td id=\"T_24e04_row8_col0\" class=\"data row8 col0\" >-0.047474</td>\n      <td id=\"T_24e04_row8_col1\" class=\"data row8 col1\" >-0.047474</td>\n      <td id=\"T_24e04_row8_col2\" class=\"data row8 col2\" >0.067162</td>\n      <td id=\"T_24e04_row8_col3\" class=\"data row8 col3\" >0.004883</td>\n      <td id=\"T_24e04_row8_col4\" class=\"data row8 col4\" >0.035616</td>\n      <td id=\"T_24e04_row8_col5\" class=\"data row8 col5\" >0.032685</td>\n      <td id=\"T_24e04_row8_col6\" class=\"data row8 col6\" >-0.035996</td>\n      <td id=\"T_24e04_row8_col7\" class=\"data row8 col7\" >0.453340</td>\n      <td id=\"T_24e04_row8_col8\" class=\"data row8 col8\" >1.000000</td>\n      <td id=\"T_24e04_row8_col9\" class=\"data row8 col9\" >-0.077389</td>\n      <td id=\"T_24e04_row8_col10\" class=\"data row8 col10\" >-0.144313</td>\n    </tr>\n    <tr>\n      <th id=\"T_24e04_level0_row9\" class=\"row_heading level0 row9\" >section_no</th>\n      <td id=\"T_24e04_row9_col0\" class=\"data row9 col0\" >-0.044521</td>\n      <td id=\"T_24e04_row9_col1\" class=\"data row9 col1\" >-0.044521</td>\n      <td id=\"T_24e04_row9_col2\" class=\"data row9 col2\" >-0.118532</td>\n      <td id=\"T_24e04_row9_col3\" class=\"data row9 col3\" >0.011345</td>\n      <td id=\"T_24e04_row9_col4\" class=\"data row9 col4\" >0.032955</td>\n      <td id=\"T_24e04_row9_col5\" class=\"data row9 col5\" >-0.004332</td>\n      <td id=\"T_24e04_row9_col6\" class=\"data row9 col6\" >-0.002461</td>\n      <td id=\"T_24e04_row9_col7\" class=\"data row9 col7\" >0.349181</td>\n      <td id=\"T_24e04_row9_col8\" class=\"data row9 col8\" >-0.077389</td>\n      <td id=\"T_24e04_row9_col9\" class=\"data row9 col9\" >1.000000</td>\n      <td id=\"T_24e04_row9_col10\" class=\"data row9 col10\" >0.217788</td>\n    </tr>\n    <tr>\n      <th id=\"T_24e04_level0_row10\" class=\"row_heading level0 row10\" >garment_group_no</th>\n      <td id=\"T_24e04_row10_col0\" class=\"data row10 col0\" >-0.013408</td>\n      <td id=\"T_24e04_row10_col1\" class=\"data row10 col1\" >-0.013408</td>\n      <td id=\"T_24e04_row10_col2\" class=\"data row10 col2\" >-0.461593</td>\n      <td id=\"T_24e04_row10_col3\" class=\"data row10 col3\" >0.013072</td>\n      <td id=\"T_24e04_row10_col4\" class=\"data row10 col4\" >-0.000316</td>\n      <td id=\"T_24e04_row10_col5\" class=\"data row10 col5\" >0.020732</td>\n      <td id=\"T_24e04_row10_col6\" class=\"data row10 col6\" >-0.022573</td>\n      <td id=\"T_24e04_row10_col7\" class=\"data row10 col7\" >-0.053457</td>\n      <td id=\"T_24e04_row10_col8\" class=\"data row10 col8\" >-0.144313</td>\n      <td id=\"T_24e04_row10_col9\" class=\"data row10 col9\" >0.217788</td>\n      <td id=\"T_24e04_row10_col10\" class=\"data row10 col10\" >1.000000</td>\n    </tr>\n  </tbody>\n</table>\n"
          },
          "metadata": {}
        }
      ]
    },
    {
      "cell_type": "code",
      "source": [
        "corrmat = customers.corr()\n",
        "f, ax = plt.subplots(figsize=(10,10))\n",
        "sns.heatmap(corrmat, square=True, annot = True, annot_kws={'size':10})"
      ],
      "metadata": {
        "execution": {
          "iopub.status.busy": "2022-04-16T04:46:31.359238Z",
          "iopub.execute_input": "2022-04-16T04:46:31.359800Z",
          "iopub.status.idle": "2022-04-16T04:46:31.650112Z",
          "shell.execute_reply.started": "2022-04-16T04:46:31.359764Z",
          "shell.execute_reply": "2022-04-16T04:46:31.649259Z"
        },
        "trusted": true,
        "id": "vD2EfYy0WMUi",
        "outputId": "2ee59854-ca1a-4972-fd32-8bb8ea163ca3"
      },
      "execution_count": null,
      "outputs": [
        {
          "execution_count": 38,
          "output_type": "execute_result",
          "data": {
            "text/plain": "<AxesSubplot:>"
          },
          "metadata": {}
        },
        {
          "output_type": "display_data",
          "data": {
            "text/plain": "<Figure size 720x720 with 2 Axes>",
            "image/png": "[encoded data removed]"
          },
          "metadata": {
            "needs_background": "light"
          }
        }
      ]
    },
    {
      "cell_type": "code",
      "source": [
        "N = 12\n",
        "listUniBins = customers['age'].unique().tolist()"
      ],
      "metadata": {
        "execution": {
          "iopub.status.busy": "2022-04-16T04:46:31.651555Z",
          "iopub.execute_input": "2022-04-16T04:46:31.651974Z",
          "iopub.status.idle": "2022-04-16T04:46:31.671880Z",
          "shell.execute_reply.started": "2022-04-16T04:46:31.651899Z",
          "shell.execute_reply": "2022-04-16T04:46:31.670983Z"
        },
        "trusted": true,
        "id": "poij_zTRWMUi"
      },
      "execution_count": null,
      "outputs": []
    },
    {
      "cell_type": "markdown",
      "source": [
        "**Transactions_train**"
      ],
      "metadata": {
        "id": "PlB4xkpHWMUj"
      }
    },
    {
      "cell_type": "code",
      "source": [
        "transactions_train= pd.read_csv('/kaggle/input/h-and-m-personalized-fashion-recommendations/transactions_train.csv')"
      ],
      "metadata": {
        "execution": {
          "iopub.status.busy": "2022-04-16T04:46:31.673578Z",
          "iopub.execute_input": "2022-04-16T04:46:31.674120Z",
          "iopub.status.idle": "2022-04-16T04:47:18.627355Z",
          "shell.execute_reply.started": "2022-04-16T04:46:31.674071Z",
          "shell.execute_reply": "2022-04-16T04:47:18.626299Z"
        },
        "trusted": true,
        "id": "JqWlh5d4WMUj"
      },
      "execution_count": null,
      "outputs": []
    },
    {
      "cell_type": "code",
      "source": [
        "transactions_train.head()"
      ],
      "metadata": {
        "execution": {
          "iopub.status.busy": "2022-04-16T04:47:18.628671Z",
          "iopub.execute_input": "2022-04-16T04:47:18.628910Z",
          "iopub.status.idle": "2022-04-16T04:47:18.640604Z",
          "shell.execute_reply.started": "2022-04-16T04:47:18.628883Z",
          "shell.execute_reply": "2022-04-16T04:47:18.639650Z"
        },
        "trusted": true,
        "id": "CIyj-9vmWMUk",
        "outputId": "0814abc8-4c86-446f-a559-6f93455fd348"
      },
      "execution_count": null,
      "outputs": [
        {
          "execution_count": 41,
          "output_type": "execute_result",
          "data": {
            "text/plain": "        t_dat                                        customer_id  article_id  \\\n0  2018-09-20  000058a12d5b43e67d225668fa1f8d618c13dc232df0ca...   663713001   \n1  2018-09-20  000058a12d5b43e67d225668fa1f8d618c13dc232df0ca...   541518023   \n2  2018-09-20  00007d2de826758b65a93dd24ce629ed66842531df6699...   505221004   \n3  2018-09-20  00007d2de826758b65a93dd24ce629ed66842531df6699...   685687003   \n4  2018-09-20  00007d2de826758b65a93dd24ce629ed66842531df6699...   685687004   \n\n      price  sales_channel_id  \n0  0.050831                 2  \n1  0.030492                 2  \n2  0.015237                 2  \n3  0.016932                 2  \n4  0.016932                 2  ",
            "text/html": "<div>\n<style scoped>\n    .dataframe tbody tr th:only-of-type {\n        vertical-align: middle;\n    }\n\n    .dataframe tbody tr th {\n        vertical-align: top;\n    }\n\n    .dataframe thead th {\n        text-align: right;\n    }\n</style>\n<table border=\"1\" class=\"dataframe\">\n  <thead>\n    <tr style=\"text-align: right;\">\n      <th></th>\n      <th>t_dat</th>\n      <th>customer_id</th>\n      <th>article_id</th>\n      <th>price</th>\n      <th>sales_channel_id</th>\n    </tr>\n  </thead>\n  <tbody>\n    <tr>\n      <th>0</th>\n      <td>2018-09-20</td>\n      <td>000058a12d5b43e67d225668fa1f8d618c13dc232df0ca...</td>\n      <td>663713001</td>\n      <td>0.050831</td>\n      <td>2</td>\n    </tr>\n    <tr>\n      <th>1</th>\n      <td>2018-09-20</td>\n      <td>000058a12d5b43e67d225668fa1f8d618c13dc232df0ca...</td>\n      <td>541518023</td>\n      <td>0.030492</td>\n      <td>2</td>\n    </tr>\n    <tr>\n      <th>2</th>\n      <td>2018-09-20</td>\n      <td>00007d2de826758b65a93dd24ce629ed66842531df6699...</td>\n      <td>505221004</td>\n      <td>0.015237</td>\n      <td>2</td>\n    </tr>\n    <tr>\n      <th>3</th>\n      <td>2018-09-20</td>\n      <td>00007d2de826758b65a93dd24ce629ed66842531df6699...</td>\n      <td>685687003</td>\n      <td>0.016932</td>\n      <td>2</td>\n    </tr>\n    <tr>\n      <th>4</th>\n      <td>2018-09-20</td>\n      <td>00007d2de826758b65a93dd24ce629ed66842531df6699...</td>\n      <td>685687004</td>\n      <td>0.016932</td>\n      <td>2</td>\n    </tr>\n  </tbody>\n</table>\n</div>"
          },
          "metadata": {}
        }
      ]
    },
    {
      "cell_type": "code",
      "source": [
        "transactions_train.shape"
      ],
      "metadata": {
        "execution": {
          "iopub.status.busy": "2022-04-16T04:47:18.642089Z",
          "iopub.execute_input": "2022-04-16T04:47:18.642449Z",
          "iopub.status.idle": "2022-04-16T04:47:18.653755Z",
          "shell.execute_reply.started": "2022-04-16T04:47:18.642415Z",
          "shell.execute_reply": "2022-04-16T04:47:18.652759Z"
        },
        "trusted": true,
        "id": "C8dRA_tYWMUk",
        "outputId": "f83f0bb2-c0e5-4548-fee4-db121d6fa619"
      },
      "execution_count": null,
      "outputs": [
        {
          "execution_count": 42,
          "output_type": "execute_result",
          "data": {
            "text/plain": "(31788324, 5)"
          },
          "metadata": {}
        }
      ]
    },
    {
      "cell_type": "code",
      "source": [
        "transactions_train.info()"
      ],
      "metadata": {
        "execution": {
          "iopub.status.busy": "2022-04-16T04:47:18.655670Z",
          "iopub.execute_input": "2022-04-16T04:47:18.656309Z",
          "iopub.status.idle": "2022-04-16T04:47:18.675878Z",
          "shell.execute_reply.started": "2022-04-16T04:47:18.656261Z",
          "shell.execute_reply": "2022-04-16T04:47:18.674958Z"
        },
        "trusted": true,
        "id": "M_o6QGxSWMUl",
        "outputId": "da0d2b66-ed2f-4401-c485-27d72e63f679"
      },
      "execution_count": null,
      "outputs": [
        {
          "name": "stdout",
          "text": "<class 'pandas.core.frame.DataFrame'>\nRangeIndex: 31788324 entries, 0 to 31788323\nData columns (total 5 columns):\n #   Column            Dtype  \n---  ------            -----  \n 0   t_dat             object \n 1   customer_id       object \n 2   article_id        int64  \n 3   price             float64\n 4   sales_channel_id  int64  \ndtypes: float64(1), int64(2), object(2)\nmemory usage: 1.2+ GB\n",
          "output_type": "stream"
        }
      ]
    },
    {
      "cell_type": "code",
      "source": [
        "transactions_train.isnull().sum()"
      ],
      "metadata": {
        "execution": {
          "iopub.status.busy": "2022-04-16T04:47:18.677366Z",
          "iopub.execute_input": "2022-04-16T04:47:18.678025Z",
          "iopub.status.idle": "2022-04-16T04:47:21.523829Z",
          "shell.execute_reply.started": "2022-04-16T04:47:18.677973Z",
          "shell.execute_reply": "2022-04-16T04:47:21.522720Z"
        },
        "trusted": true,
        "id": "mHpz7YYgWMUl",
        "outputId": "2b6b3af4-841d-44e0-8774-9e91de718d9a"
      },
      "execution_count": null,
      "outputs": [
        {
          "execution_count": 44,
          "output_type": "execute_result",
          "data": {
            "text/plain": "t_dat               0\ncustomer_id         0\narticle_id          0\nprice               0\nsales_channel_id    0\ndtype: int64"
          },
          "metadata": {}
        }
      ]
    },
    {
      "cell_type": "code",
      "source": [
        "corr = transactions_train.corr()\n",
        "corr.style.background_gradient (cmap = \"flare_r\")"
      ],
      "metadata": {
        "execution": {
          "iopub.status.busy": "2022-04-16T04:47:21.525285Z",
          "iopub.execute_input": "2022-04-16T04:47:21.525876Z",
          "iopub.status.idle": "2022-04-16T04:47:22.992089Z",
          "shell.execute_reply.started": "2022-04-16T04:47:21.525821Z",
          "shell.execute_reply": "2022-04-16T04:47:22.991113Z"
        },
        "trusted": true,
        "id": "xfuZL95rWMUl",
        "outputId": "4472c31e-1bed-46d5-db68-c58323d323a8"
      },
      "execution_count": null,
      "outputs": [
        {
          "execution_count": 45,
          "output_type": "execute_result",
          "data": {
            "text/plain": "<pandas.io.formats.style.Styler at 0x7f485bab1690>",
            "text/html": "<style type=\"text/css\">\n#T_40527_row0_col0, #T_40527_row1_col1, #T_40527_row2_col2 {\n  background-color: #edb081;\n  color: #000000;\n}\n#T_40527_row0_col1, #T_40527_row0_col2, #T_40527_row2_col0 {\n  background-color: #4b2362;\n  color: #f1f1f1;\n}\n#T_40527_row1_col0 {\n  background-color: #582766;\n  color: #f1f1f1;\n}\n#T_40527_row1_col2 {\n  background-color: #5f2969;\n  color: #f1f1f1;\n}\n#T_40527_row2_col1 {\n  background-color: #512564;\n  color: #f1f1f1;\n}\n</style>\n<table id=\"T_40527_\">\n  <thead>\n    <tr>\n      <th class=\"blank level0\" >&nbsp;</th>\n      <th class=\"col_heading level0 col0\" >article_id</th>\n      <th class=\"col_heading level0 col1\" >price</th>\n      <th class=\"col_heading level0 col2\" >sales_channel_id</th>\n    </tr>\n  </thead>\n  <tbody>\n    <tr>\n      <th id=\"T_40527_level0_row0\" class=\"row_heading level0 row0\" >article_id</th>\n      <td id=\"T_40527_row0_col0\" class=\"data row0 col0\" >1.000000</td>\n      <td id=\"T_40527_row0_col1\" class=\"data row0 col1\" >0.141169</td>\n      <td id=\"T_40527_row0_col2\" class=\"data row0 col2\" >0.085231</td>\n    </tr>\n    <tr>\n      <th id=\"T_40527_level0_row1\" class=\"row_heading level0 row1\" >price</th>\n      <td id=\"T_40527_row1_col0\" class=\"data row1 col0\" >0.141169</td>\n      <td id=\"T_40527_row1_col1\" class=\"data row1 col1\" >1.000000</td>\n      <td id=\"T_40527_row1_col2\" class=\"data row1 col2\" >0.165802</td>\n    </tr>\n    <tr>\n      <th id=\"T_40527_level0_row2\" class=\"row_heading level0 row2\" >sales_channel_id</th>\n      <td id=\"T_40527_row2_col0\" class=\"data row2 col0\" >0.085231</td>\n      <td id=\"T_40527_row2_col1\" class=\"data row2 col1\" >0.165802</td>\n      <td id=\"T_40527_row2_col2\" class=\"data row2 col2\" >1.000000</td>\n    </tr>\n  </tbody>\n</table>\n"
          },
          "metadata": {}
        }
      ]
    },
    {
      "cell_type": "code",
      "source": [
        "corrmat = transactions_train.corr()\n",
        "f, ax = plt.subplots(figsize=(10,10))\n",
        "sns.heatmap(corrmat, square=True, annot = True, annot_kws={'size':10})"
      ],
      "metadata": {
        "execution": {
          "iopub.status.busy": "2022-04-16T04:47:22.993329Z",
          "iopub.execute_input": "2022-04-16T04:47:22.993650Z",
          "iopub.status.idle": "2022-04-16T04:47:24.645830Z",
          "shell.execute_reply.started": "2022-04-16T04:47:22.993621Z",
          "shell.execute_reply": "2022-04-16T04:47:24.645005Z"
        },
        "trusted": true,
        "id": "93fhrzLoWMUm",
        "outputId": "da1bd773-cd13-445b-c371-e34b1bcdd910"
      },
      "execution_count": null,
      "outputs": [
        {
          "execution_count": 46,
          "output_type": "execute_result",
          "data": {
            "text/plain": "<AxesSubplot:>"
          },
          "metadata": {}
        },
        {
          "output_type": "display_data",
          "data": {
            "text/plain": "<Figure size 720x720 with 2 Axes>",
            "image/png": "[encoded data removed]"
          },
          "metadata": {
            "needs_background": "light"
          }
        }
      ]
    },
    {
      "cell_type": "markdown",
      "source": [
        "**sample_submission**"
      ],
      "metadata": {
        "id": "5Tim-wDeWMUm"
      }
    },
    {
      "cell_type": "code",
      "source": [
        "sample_submission= pd.read_csv('/kaggle/input/h-and-m-personalized-fashion-recommendations/sample_submission.csv')"
      ],
      "metadata": {
        "execution": {
          "iopub.status.busy": "2022-04-16T04:47:24.647165Z",
          "iopub.execute_input": "2022-04-16T04:47:24.647789Z",
          "iopub.status.idle": "2022-04-16T04:47:29.399998Z",
          "shell.execute_reply.started": "2022-04-16T04:47:24.647742Z",
          "shell.execute_reply": "2022-04-16T04:47:29.399152Z"
        },
        "trusted": true,
        "id": "8jr4bhjuWMUn"
      },
      "execution_count": null,
      "outputs": []
    },
    {
      "cell_type": "code",
      "source": [
        "sample_submission.head()"
      ],
      "metadata": {
        "execution": {
          "iopub.status.busy": "2022-04-16T04:48:35.525579Z",
          "iopub.execute_input": "2022-04-16T04:48:35.526099Z",
          "iopub.status.idle": "2022-04-16T04:48:35.540056Z",
          "shell.execute_reply.started": "2022-04-16T04:48:35.526060Z",
          "shell.execute_reply": "2022-04-16T04:48:35.539021Z"
        },
        "trusted": true,
        "id": "GMAD_wCVWMUn",
        "outputId": "4b430839-09e1-4817-ada0-255590b867cd"
      },
      "execution_count": null,
      "outputs": [
        {
          "execution_count": 50,
          "output_type": "execute_result",
          "data": {
            "text/plain": "                                         customer_id  \\\n0  00000dbacae5abe5e23885899a1fa44253a17956c6d1c3...   \n1  0000423b00ade91418cceaf3b26c6af3dd342b51fd051e...   \n2  000058a12d5b43e67d225668fa1f8d618c13dc232df0ca...   \n3  00005ca1c9ed5f5146b52ac8639a40ca9d57aeff4d1bd2...   \n4  00006413d8573cd20ed7128e53b7b13819fe5cfc2d801f...   \n\n                                          prediction  \n0  0706016001 0706016002 0372860001 0610776002 07...  \n1  0706016001 0706016002 0372860001 0610776002 07...  \n2  0706016001 0706016002 0372860001 0610776002 07...  \n3  0706016001 0706016002 0372860001 0610776002 07...  \n4  0706016001 0706016002 0372860001 0610776002 07...  ",
            "text/html": "<div>\n<style scoped>\n    .dataframe tbody tr th:only-of-type {\n        vertical-align: middle;\n    }\n\n    .dataframe tbody tr th {\n        vertical-align: top;\n    }\n\n    .dataframe thead th {\n        text-align: right;\n    }\n</style>\n<table border=\"1\" class=\"dataframe\">\n  <thead>\n    <tr style=\"text-align: right;\">\n      <th></th>\n      <th>customer_id</th>\n      <th>prediction</th>\n    </tr>\n  </thead>\n  <tbody>\n    <tr>\n      <th>0</th>\n      <td>00000dbacae5abe5e23885899a1fa44253a17956c6d1c3...</td>\n      <td>0706016001 0706016002 0372860001 0610776002 07...</td>\n    </tr>\n    <tr>\n      <th>1</th>\n      <td>0000423b00ade91418cceaf3b26c6af3dd342b51fd051e...</td>\n      <td>0706016001 0706016002 0372860001 0610776002 07...</td>\n    </tr>\n    <tr>\n      <th>2</th>\n      <td>000058a12d5b43e67d225668fa1f8d618c13dc232df0ca...</td>\n      <td>0706016001 0706016002 0372860001 0610776002 07...</td>\n    </tr>\n    <tr>\n      <th>3</th>\n      <td>00005ca1c9ed5f5146b52ac8639a40ca9d57aeff4d1bd2...</td>\n      <td>0706016001 0706016002 0372860001 0610776002 07...</td>\n    </tr>\n    <tr>\n      <th>4</th>\n      <td>00006413d8573cd20ed7128e53b7b13819fe5cfc2d801f...</td>\n      <td>0706016001 0706016002 0372860001 0610776002 07...</td>\n    </tr>\n  </tbody>\n</table>\n</div>"
          },
          "metadata": {}
        }
      ]
    },
    {
      "cell_type": "code",
      "source": [
        "sample_submission.shape"
      ],
      "metadata": {
        "execution": {
          "iopub.status.busy": "2022-04-16T04:49:02.788563Z",
          "iopub.execute_input": "2022-04-16T04:49:02.789091Z",
          "iopub.status.idle": "2022-04-16T04:49:02.794850Z",
          "shell.execute_reply.started": "2022-04-16T04:49:02.789053Z",
          "shell.execute_reply": "2022-04-16T04:49:02.794025Z"
        },
        "trusted": true,
        "id": "DN9iRDT1WMUn",
        "outputId": "64c0703d-3fcf-41de-8c94-7630af34300d"
      },
      "execution_count": null,
      "outputs": [
        {
          "execution_count": 53,
          "output_type": "execute_result",
          "data": {
            "text/plain": "(1371980, 2)"
          },
          "metadata": {}
        }
      ]
    },
    {
      "cell_type": "code",
      "source": [
        "sample_submission.info()"
      ],
      "metadata": {
        "execution": {
          "iopub.status.busy": "2022-04-16T04:49:22.135000Z",
          "iopub.execute_input": "2022-04-16T04:49:22.135482Z",
          "iopub.status.idle": "2022-04-16T04:49:22.278123Z",
          "shell.execute_reply.started": "2022-04-16T04:49:22.135447Z",
          "shell.execute_reply": "2022-04-16T04:49:22.276974Z"
        },
        "trusted": true,
        "id": "FHYkzorrWMUo",
        "outputId": "a99ed24d-a95b-4157-a309-fc8fc7456727"
      },
      "execution_count": null,
      "outputs": [
        {
          "name": "stdout",
          "text": "<class 'pandas.core.frame.DataFrame'>\nRangeIndex: 1371980 entries, 0 to 1371979\nData columns (total 2 columns):\n #   Column       Non-Null Count    Dtype \n---  ------       --------------    ----- \n 0   customer_id  1371980 non-null  object\n 1   prediction   1371980 non-null  object\ndtypes: object(2)\nmemory usage: 20.9+ MB\n",
          "output_type": "stream"
        }
      ]
    },
    {
      "cell_type": "code",
      "source": [
        "sample_submission.isnull().sum()"
      ],
      "metadata": {
        "execution": {
          "iopub.status.busy": "2022-04-16T04:50:17.332568Z",
          "iopub.execute_input": "2022-04-16T04:50:17.333595Z",
          "iopub.status.idle": "2022-04-16T04:50:17.466849Z",
          "shell.execute_reply.started": "2022-04-16T04:50:17.333547Z",
          "shell.execute_reply": "2022-04-16T04:50:17.465757Z"
        },
        "trusted": true,
        "id": "OEAH9ctqWMUo",
        "outputId": "a46a4a7d-413b-4767-eb1d-789860b8c820"
      },
      "execution_count": null,
      "outputs": [
        {
          "execution_count": 56,
          "output_type": "execute_result",
          "data": {
            "text/plain": "customer_id    0\nprediction     0\ndtype: int64"
          },
          "metadata": {}
        }
      ]
    },
    {
      "cell_type": "code",
      "source": [
        "corr = sample_submission.corr()\n",
        "corr.style.background_gradient (cmap = \"flare_r\")"
      ],
      "metadata": {
        "execution": {
          "iopub.status.busy": "2022-04-16T04:52:38.863778Z",
          "iopub.execute_input": "2022-04-16T04:52:38.864342Z",
          "iopub.status.idle": "2022-04-16T04:52:38.876080Z",
          "shell.execute_reply.started": "2022-04-16T04:52:38.864304Z",
          "shell.execute_reply": "2022-04-16T04:52:38.875257Z"
        },
        "trusted": true,
        "id": "oWL82cIRWMUo",
        "outputId": "0559486c-8888-40b1-fa48-aa7ee809633c"
      },
      "execution_count": null,
      "outputs": [
        {
          "execution_count": 59,
          "output_type": "execute_result",
          "data": {
            "text/plain": "<pandas.io.formats.style.Styler at 0x7f480b922b90>",
            "text/html": "<style type=\"text/css\">\n</style>\n<table id=\"T_82aa9_\">\n  <thead>\n  </thead>\n  <tbody>\n  </tbody>\n</table>\n"
          },
          "metadata": {}
        }
      ]
    },
    {
      "cell_type": "code",
      "source": [
        "!pip install rapids"
      ],
      "metadata": {
        "execution": {
          "iopub.status.busy": "2022-04-16T04:59:44.127114Z",
          "iopub.execute_input": "2022-04-16T04:59:44.127490Z",
          "iopub.status.idle": "2022-04-16T04:59:57.893531Z",
          "shell.execute_reply.started": "2022-04-16T04:59:44.127454Z",
          "shell.execute_reply": "2022-04-16T04:59:57.892676Z"
        },
        "trusted": true,
        "id": "gEVbjtbIWMUp",
        "outputId": "7f8705e7-106b-4496-d37f-9638a532d5c7"
      },
      "execution_count": null,
      "outputs": [
        {
          "name": "stdout",
          "text": "Collecting rapids\n  Downloading rapids-0.0.1-py3-none-any.whl (10 kB)\nCollecting venusian\n  Downloading venusian-3.0.0-py3-none-any.whl (13 kB)\nRequirement already satisfied: PyYAML in /opt/conda/lib/python3.7/site-packages (from rapids) (6.0)\nRequirement already satisfied: setuptools in /opt/conda/lib/python3.7/site-packages (from rapids) (59.8.0)\nCollecting pyramid\n  Downloading pyramid-2.0-py3-none-any.whl (246 kB)\n\u001b[2K     \u001b[90m━━━━━━━━━━━━━━━━━━━━━━━━━━━━━━━━━━━━━━━\u001b[0m \u001b[32m246.6/246.6 KB\u001b[0m \u001b[31m1.0 MB/s\u001b[0m eta \u001b[36m0:00:00\u001b[0ma \u001b[36m0:00:01\u001b[0m\n\u001b[?25hCollecting zope.interface\n  Downloading zope.interface-5.4.0-cp37-cp37m-manylinux2010_x86_64.whl (251 kB)\n\u001b[2K     \u001b[90m━━━━━━━━━━━━━━━━━━━━━━━━━━━━━━━━━━━━━━━\u001b[0m \u001b[32m252.0/252.0 KB\u001b[0m \u001b[31m5.0 MB/s\u001b[0m eta \u001b[36m0:00:00\u001b[0ma \u001b[36m0:00:01\u001b[0m\n\u001b[?25hCollecting plaster-pastedeploy\n  Downloading plaster_pastedeploy-0.7-py2.py3-none-any.whl (7.8 kB)\nCollecting translationstring>=0.4\n  Downloading translationstring-1.4-py2.py3-none-any.whl (15 kB)\nCollecting webob>=1.8.3\n  Downloading WebOb-1.8.7-py2.py3-none-any.whl (114 kB)\n\u001b[2K     \u001b[90m━━━━━━━━━━━━━━━━━━━━━━━━━━━━━━━━━━━━━━━\u001b[0m \u001b[32m115.0/115.0 KB\u001b[0m \u001b[31m7.0 MB/s\u001b[0m eta \u001b[36m0:00:00\u001b[0m\n\u001b[?25hCollecting hupper>=1.5\n  Downloading hupper-1.10.3-py2.py3-none-any.whl (26 kB)\nCollecting plaster\n  Downloading plaster-1.0-py2.py3-none-any.whl (14 kB)\nCollecting zope.deprecation>=3.5.0\n  Downloading zope.deprecation-4.4.0-py2.py3-none-any.whl (10 kB)\nCollecting PasteDeploy>=2.0\n  Downloading PasteDeploy-2.1.1-py2.py3-none-any.whl (17 kB)\nInstalling collected packages: translationstring, zope.interface, zope.deprecation, webob, venusian, plaster, PasteDeploy, hupper, plaster-pastedeploy, pyramid, rapids\nSuccessfully installed PasteDeploy-2.1.1 hupper-1.10.3 plaster-1.0 plaster-pastedeploy-0.7 pyramid-2.0 rapids-0.0.1 translationstring-1.4 venusian-3.0.0 webob-1.8.7 zope.deprecation-4.4.0 zope.interface-5.4.0\n\u001b[33mWARNING: Running pip as the 'root' user can result in broken permissions and conflicting behaviour with the system package manager. It is recommended to use a virtual environment instead: https://pip.pypa.io/warnings/venv\u001b[0m\u001b[33m\n\u001b[0m",
          "output_type": "stream"
        }
      ]
    },
    {
      "cell_type": "code",
      "source": [
        "# === General ===\n",
        "import sys, warnings, time, os, copy, gc, re, random, pickle \n",
        "warnings.filterwarnings('ignore')\n",
        "from IPython.display import display\n",
        "import matplotlib.pyplot as plt\n",
        "import numpy as np\n",
        "import pandas as pd\n",
        "# pd.set_option('display.max_rows', 50)\n",
        "# pd.set_option('display.max_columns', None)\n",
        "# pd.set_option(\"display.max_colwidth\", 10000)\n",
        "import seaborn as sns\n",
        "sns.set()\n",
        "from pandas.io.json import json_normalize\n",
        "from pprint import pprint\n",
        "from pathlib import Path\n",
        "from tqdm import tqdm\n",
        "tqdm.pandas()\n",
        "from collections import Counter\n",
        "from datetime import datetime, timedelta"
      ],
      "metadata": {
        "execution": {
          "iopub.status.busy": "2022-04-16T05:01:38.451203Z",
          "iopub.execute_input": "2022-04-16T05:01:38.451654Z",
          "iopub.status.idle": "2022-04-16T05:01:38.460702Z",
          "shell.execute_reply.started": "2022-04-16T05:01:38.451621Z",
          "shell.execute_reply": "2022-04-16T05:01:38.459988Z"
        },
        "trusted": true,
        "id": "PhEepfsHWMUp"
      },
      "execution_count": null,
      "outputs": []
    },
    {
      "cell_type": "code",
      "source": [
        "DEBUG = False\n",
        "PATH_INPUT = r'../input/h-and-m-personalized-fashion-recommendations/'"
      ],
      "metadata": {
        "execution": {
          "iopub.status.busy": "2022-04-16T05:02:02.661053Z",
          "iopub.execute_input": "2022-04-16T05:02:02.661513Z",
          "iopub.status.idle": "2022-04-16T05:02:02.665803Z",
          "shell.execute_reply.started": "2022-04-16T05:02:02.661478Z",
          "shell.execute_reply": "2022-04-16T05:02:02.664603Z"
        },
        "trusted": true,
        "id": "QGy1Q38CWMUq"
      },
      "execution_count": null,
      "outputs": []
    },
    {
      "cell_type": "code",
      "source": [
        "def display_df(df, head=3):\n",
        "    print(f'The shape of df is {df.shape}.\\n')\n",
        "    display(df.head(head))"
      ],
      "metadata": {
        "execution": {
          "iopub.status.busy": "2022-04-16T05:03:19.594136Z",
          "iopub.execute_input": "2022-04-16T05:03:19.594982Z",
          "iopub.status.idle": "2022-04-16T05:03:19.600139Z",
          "shell.execute_reply.started": "2022-04-16T05:03:19.594936Z",
          "shell.execute_reply": "2022-04-16T05:03:19.599196Z"
        },
        "trusted": true,
        "id": "T7V2UuvbWMUq"
      },
      "execution_count": null,
      "outputs": []
    },
    {
      "cell_type": "code",
      "source": [
        "dfArticles = pd.read_csv(PATH_INPUT + 'articles.csv', usecols=['article_id', \"product_group_name\", \"perceived_colour_master_name\"])\n",
        "display_df(dfArticles, head=3)"
      ],
      "metadata": {
        "execution": {
          "iopub.status.busy": "2022-04-16T05:03:44.857754Z",
          "iopub.execute_input": "2022-04-16T05:03:44.858366Z",
          "iopub.status.idle": "2022-04-16T05:03:45.184330Z",
          "shell.execute_reply.started": "2022-04-16T05:03:44.858323Z",
          "shell.execute_reply": "2022-04-16T05:03:45.183382Z"
        },
        "trusted": true,
        "id": "SOxIZ-zHWMUq",
        "outputId": "086cfc44-c3c6-4036-cb3d-6dabfac01783"
      },
      "execution_count": null,
      "outputs": [
        {
          "name": "stdout",
          "text": "The shape of df is (105542, 3).\n\n",
          "output_type": "stream"
        },
        {
          "output_type": "display_data",
          "data": {
            "text/plain": "   article_id  product_group_name perceived_colour_master_name\n0   108775015  Garment Upper body                        Black\n1   108775044  Garment Upper body                        White\n2   108775051  Garment Upper body                        White",
            "text/html": "<div>\n<style scoped>\n    .dataframe tbody tr th:only-of-type {\n        vertical-align: middle;\n    }\n\n    .dataframe tbody tr th {\n        vertical-align: top;\n    }\n\n    .dataframe thead th {\n        text-align: right;\n    }\n</style>\n<table border=\"1\" class=\"dataframe\">\n  <thead>\n    <tr style=\"text-align: right;\">\n      <th></th>\n      <th>article_id</th>\n      <th>product_group_name</th>\n      <th>perceived_colour_master_name</th>\n    </tr>\n  </thead>\n  <tbody>\n    <tr>\n      <th>0</th>\n      <td>108775015</td>\n      <td>Garment Upper body</td>\n      <td>Black</td>\n    </tr>\n    <tr>\n      <th>1</th>\n      <td>108775044</td>\n      <td>Garment Upper body</td>\n      <td>White</td>\n    </tr>\n    <tr>\n      <th>2</th>\n      <td>108775051</td>\n      <td>Garment Upper body</td>\n      <td>White</td>\n    </tr>\n  </tbody>\n</table>\n</div>"
          },
          "metadata": {}
        }
      ]
    },
    {
      "cell_type": "code",
      "source": [
        "dfCustomers = pd.read_csv(PATH_INPUT + 'customers.csv', usecols=['customer_id', 'age'])\n",
        "display_df(dfCustomers, head=3)"
      ],
      "metadata": {
        "execution": {
          "iopub.status.busy": "2022-04-16T05:04:48.805224Z",
          "iopub.execute_input": "2022-04-16T05:04:48.805759Z",
          "iopub.status.idle": "2022-04-16T05:04:51.082327Z",
          "shell.execute_reply.started": "2022-04-16T05:04:48.805711Z",
          "shell.execute_reply": "2022-04-16T05:04:51.081434Z"
        },
        "trusted": true,
        "id": "Mv18k04tWMUr",
        "outputId": "0e617a88-0174-4f4b-cc51-4e5cb4eb9ada"
      },
      "execution_count": null,
      "outputs": [
        {
          "name": "stdout",
          "text": "The shape of df is (1371980, 2).\n\n",
          "output_type": "stream"
        },
        {
          "output_type": "display_data",
          "data": {
            "text/plain": "                                         customer_id   age\n0  00000dbacae5abe5e23885899a1fa44253a17956c6d1c3...  49.0\n1  0000423b00ade91418cceaf3b26c6af3dd342b51fd051e...  25.0\n2  000058a12d5b43e67d225668fa1f8d618c13dc232df0ca...  24.0",
            "text/html": "<div>\n<style scoped>\n    .dataframe tbody tr th:only-of-type {\n        vertical-align: middle;\n    }\n\n    .dataframe tbody tr th {\n        vertical-align: top;\n    }\n\n    .dataframe thead th {\n        text-align: right;\n    }\n</style>\n<table border=\"1\" class=\"dataframe\">\n  <thead>\n    <tr style=\"text-align: right;\">\n      <th></th>\n      <th>customer_id</th>\n      <th>age</th>\n    </tr>\n  </thead>\n  <tbody>\n    <tr>\n      <th>0</th>\n      <td>00000dbacae5abe5e23885899a1fa44253a17956c6d1c3...</td>\n      <td>49.0</td>\n    </tr>\n    <tr>\n      <th>1</th>\n      <td>0000423b00ade91418cceaf3b26c6af3dd342b51fd051e...</td>\n      <td>25.0</td>\n    </tr>\n    <tr>\n      <th>2</th>\n      <td>000058a12d5b43e67d225668fa1f8d618c13dc232df0ca...</td>\n      <td>24.0</td>\n    </tr>\n  </tbody>\n</table>\n</div>"
          },
          "metadata": {}
        }
      ]
    },
    {
      "cell_type": "code",
      "source": [
        "listBin = [-1, 19, 29, 39, 49, 59, 69, 119]\n",
        "dfCustomers['age_bins'] = pd.cut(dfCustomers['age'], listBin)\n",
        "display_df(dfCustomers, head=3)"
      ],
      "metadata": {
        "execution": {
          "iopub.status.busy": "2022-04-16T05:10:19.021899Z",
          "iopub.execute_input": "2022-04-16T05:10:19.022963Z",
          "iopub.status.idle": "2022-04-16T05:10:19.095009Z",
          "shell.execute_reply.started": "2022-04-16T05:10:19.022905Z",
          "shell.execute_reply": "2022-04-16T05:10:19.093942Z"
        },
        "trusted": true,
        "id": "SaMSbOGIWMUr",
        "outputId": "18d1322c-b259-49f2-ecd8-8044d54dd593"
      },
      "execution_count": null,
      "outputs": [
        {
          "name": "stdout",
          "text": "The shape of df is (1371980, 3).\n\n",
          "output_type": "stream"
        },
        {
          "output_type": "display_data",
          "data": {
            "text/plain": "                                         customer_id   age  age_bins\n0  00000dbacae5abe5e23885899a1fa44253a17956c6d1c3...  49.0  (39, 49]\n1  0000423b00ade91418cceaf3b26c6af3dd342b51fd051e...  25.0  (19, 29]\n2  000058a12d5b43e67d225668fa1f8d618c13dc232df0ca...  24.0  (19, 29]",
            "text/html": "<div>\n<style scoped>\n    .dataframe tbody tr th:only-of-type {\n        vertical-align: middle;\n    }\n\n    .dataframe tbody tr th {\n        vertical-align: top;\n    }\n\n    .dataframe thead th {\n        text-align: right;\n    }\n</style>\n<table border=\"1\" class=\"dataframe\">\n  <thead>\n    <tr style=\"text-align: right;\">\n      <th></th>\n      <th>customer_id</th>\n      <th>age</th>\n      <th>age_bins</th>\n    </tr>\n  </thead>\n  <tbody>\n    <tr>\n      <th>0</th>\n      <td>00000dbacae5abe5e23885899a1fa44253a17956c6d1c3...</td>\n      <td>49.0</td>\n      <td>(39, 49]</td>\n    </tr>\n    <tr>\n      <th>1</th>\n      <td>0000423b00ade91418cceaf3b26c6af3dd342b51fd051e...</td>\n      <td>25.0</td>\n      <td>(19, 29]</td>\n    </tr>\n    <tr>\n      <th>2</th>\n      <td>000058a12d5b43e67d225668fa1f8d618c13dc232df0ca...</td>\n      <td>24.0</td>\n      <td>(19, 29]</td>\n    </tr>\n  </tbody>\n</table>\n</div>"
          },
          "metadata": {}
        }
      ]
    },
    {
      "cell_type": "code",
      "source": [
        "x = dfCustomers[dfCustomers['age_bins'].isnull()].shape[0]\n",
        "print(f'{x} customer_id do not have age information.\\n')"
      ],
      "metadata": {
        "execution": {
          "iopub.status.busy": "2022-04-16T05:10:45.358983Z",
          "iopub.execute_input": "2022-04-16T05:10:45.359362Z",
          "iopub.status.idle": "2022-04-16T05:10:45.380583Z",
          "shell.execute_reply.started": "2022-04-16T05:10:45.359322Z",
          "shell.execute_reply": "2022-04-16T05:10:45.379489Z"
        },
        "trusted": true,
        "id": "y1CgUdlpWMUr",
        "outputId": "49a45a7b-8f4b-42ee-933c-2f5313ac8e08"
      },
      "execution_count": null,
      "outputs": [
        {
          "name": "stdout",
          "text": "15861 customer_id do not have age information.\n\n",
          "output_type": "stream"
        }
      ]
    },
    {
      "cell_type": "code",
      "source": [
        "dfTransactions = pd.read_csv(PATH_INPUT + 'transactions_train.csv',  \n",
        "                               usecols=['t_dat', 'customer_id', 'article_id'],\n",
        "                               dtype={'article_id': 'int32', 't_dat': 'string', 'customer_id': 'string'})\n",
        "dfTransactions['t_dat'] = pd.to_datetime(dfTransactions['t_dat'])\n",
        "dfTransactions.set_index('t_dat', inplace=True)\n",
        "display_df(dfTransactions, head=3)"
      ],
      "metadata": {
        "execution": {
          "iopub.status.busy": "2022-04-16T05:12:39.735766Z",
          "iopub.execute_input": "2022-04-16T05:12:39.736395Z",
          "iopub.status.idle": "2022-04-16T05:13:17.228533Z",
          "shell.execute_reply.started": "2022-04-16T05:12:39.736351Z",
          "shell.execute_reply": "2022-04-16T05:13:17.227476Z"
        },
        "trusted": true,
        "id": "lwz-8DmbWMUs",
        "outputId": "abf91a7b-8092-4bda-badc-454faeb0ecaa"
      },
      "execution_count": null,
      "outputs": [
        {
          "name": "stdout",
          "text": "The shape of df is (31788324, 2).\n\n",
          "output_type": "stream"
        },
        {
          "output_type": "display_data",
          "data": {
            "text/plain": "                                                  customer_id  article_id\nt_dat                                                                    \n2018-09-20  000058a12d5b43e67d225668fa1f8d618c13dc232df0ca...   663713001\n2018-09-20  000058a12d5b43e67d225668fa1f8d618c13dc232df0ca...   541518023\n2018-09-20  00007d2de826758b65a93dd24ce629ed66842531df6699...   505221004",
            "text/html": "<div>\n<style scoped>\n    .dataframe tbody tr th:only-of-type {\n        vertical-align: middle;\n    }\n\n    .dataframe tbody tr th {\n        vertical-align: top;\n    }\n\n    .dataframe thead th {\n        text-align: right;\n    }\n</style>\n<table border=\"1\" class=\"dataframe\">\n  <thead>\n    <tr style=\"text-align: right;\">\n      <th></th>\n      <th>customer_id</th>\n      <th>article_id</th>\n    </tr>\n    <tr>\n      <th>t_dat</th>\n      <th></th>\n      <th></th>\n    </tr>\n  </thead>\n  <tbody>\n    <tr>\n      <th>2018-09-20</th>\n      <td>000058a12d5b43e67d225668fa1f8d618c13dc232df0ca...</td>\n      <td>663713001</td>\n    </tr>\n    <tr>\n      <th>2018-09-20</th>\n      <td>000058a12d5b43e67d225668fa1f8d618c13dc232df0ca...</td>\n      <td>541518023</td>\n    </tr>\n    <tr>\n      <th>2018-09-20</th>\n      <td>00007d2de826758b65a93dd24ce629ed66842531df6699...</td>\n      <td>505221004</td>\n    </tr>\n  </tbody>\n</table>\n</div>"
          },
          "metadata": {}
        }
      ]
    },
    {
      "cell_type": "code",
      "source": [
        "N = 12\n",
        "listUniBins = dfCustomers['age_bins'].unique().tolist()"
      ],
      "metadata": {
        "execution": {
          "iopub.status.busy": "2022-04-16T05:13:23.324594Z",
          "iopub.execute_input": "2022-04-16T05:13:23.324933Z",
          "iopub.status.idle": "2022-04-16T05:13:23.342043Z",
          "shell.execute_reply.started": "2022-04-16T05:13:23.324879Z",
          "shell.execute_reply": "2022-04-16T05:13:23.340810Z"
        },
        "trusted": true,
        "id": "DiYywGyQWMUs"
      },
      "execution_count": null,
      "outputs": []
    },
    {
      "cell_type": "code",
      "source": [
        "for uniBin in listUniBins:\n",
        "    df  = pd.read_csv('../input/h-and-m-personalized-fashion-recommendations/transactions_train.csv',\n",
        "                            usecols= ['t_dat', 'customer_id', 'article_id'], \n",
        "                            dtype={'article_id': 'int32', 't_dat': 'string', 'customer_id': 'string'})\n",
        "    if str(uniBin) == 'nan':\n",
        "        dfCustomersTemp = dfCustomers[dfCustomers['age_bins'].isnull()]\n",
        "    else:\n",
        "        dfCustomersTemp = dfCustomers[dfCustomers['age_bins'] == uniBin]\n",
        "    \n",
        "    dfCustomersTemp = dfCustomersTemp.drop(['age_bins'], axis=1)\n",
        "    \n",
        "    \n",
        "    df = df.merge(dfCustomersTemp[['customer_id', 'age']], on='customer_id', how='inner')\n",
        "    print(f'The shape of scope transaction for {uniBin} is {df.shape}. \\n')\n",
        "          \n",
        "    df ['customer_id'] = df ['customer_id'].str[-16:].str.hex_to_int().astype('int64')\n",
        "    df['t_dat'] = pd.to_datetime(df['t_dat'])\n",
        "    last_ts = df['t_dat'].max()\n",
        "\n",
        "    tmp = df[['t_dat']].copy().to_pandas()\n",
        "    tmp['dow'] = tmp['t_dat'].dt.dayofweek\n",
        "    tmp['ldbw'] = tmp['t_dat'] - pd.TimedeltaIndex(tmp['dow'] - 1, unit='D')\n",
        "    tmp.loc[tmp['dow'] >=2 , 'ldbw'] = tmp.loc[tmp['dow'] >=2 , 'ldbw'] + pd.TimedeltaIndex(np.ones(len(tmp.loc[tmp['dow'] >=2])) * 7, unit='D')\n",
        "\n",
        "    df['ldbw'] = tmp['ldbw'].values\n",
        "    \n",
        "    weekly_sales = df.drop('customer_id', axis=1).groupby(['ldbw', 'article_id']).count().reset_index()\n",
        "    weekly_sales = weekly_sales.rename(columns={'t_dat': 'count'})\n",
        "    \n",
        "    df = df.merge(weekly_sales, on=['ldbw', 'article_id'], how = 'left')\n",
        "    \n",
        "    weekly_sales = weekly_sales.reset_index().set_index('article_id')\n",
        "\n",
        "    df = df.merge(\n",
        "        weekly_sales.loc[weekly_sales['ldbw']==last_ts, ['count']],\n",
        "        on='article_id', suffixes=(\"\", \"_targ\"))\n",
        "\n",
        "    df['count_targ'].fillna(0, inplace=True)\n",
        "    del weekly_sales\n",
        "    \n",
        "    df['quotient'] = df['count_targ'] / df['count']\n",
        "    \n",
        "    target_sales = df.drop('customer_id', axis=1).groupby('article_id')['quotient'].sum()\n",
        "    general_pred = target_sales.nlargest(N).index.to_pandas().tolist()\n",
        "    general_pred = ['0' + str(article_id) for article_id in general_pred]\n",
        "    general_pred_str =  ' '.join(general_pred)\n",
        "    del target_sales\n",
        "    \n",
        "    purchase_dict = {}\n",
        "\n",
        "    tmp = df.copy().to_pandas()\n",
        "    tmp['x'] = ((last_ts - tmp['t_dat']) / np.timedelta64(1, 'D')).astype(int)\n",
        "    tmp['dummy_1'] = 1 \n",
        "    tmp['x'] = tmp[[\"x\", \"dummy_1\"]].max(axis=1)\n",
        "\n",
        "    a, b, c, d = 2.5e4, 1.5e5, 2e-1, 1e3\n",
        "    tmp['y'] = a / np.sqrt(tmp['x']) + b * np.exp(-c*tmp['x']) - d\n",
        "\n",
        "    tmp['dummy_0'] = 0 \n",
        "    tmp['y'] = tmp[[\"y\", \"dummy_0\"]].max(axis=1)\n",
        "    tmp['value'] = tmp['quotient'] * tmp['y'] \n",
        "\n",
        "    tmp = tmp.groupby(['customer_id', 'article_id']).agg({'value': 'sum'})\n",
        "    tmp = tmp.reset_index()\n",
        "\n",
        "    tmp = tmp.loc[tmp['value'] > 0]\n",
        "    tmp['rank'] = tmp.groupby(\"customer_id\")[\"value\"].rank(\"dense\", ascending=False)\n",
        "    tmp = tmp.loc[tmp['rank'] <= 12]\n",
        "\n",
        "    purchase_df = tmp.sort_values(['customer_id', 'value'], ascending = False).reset_index(drop = True)\n",
        "    purchase_df['prediction'] = '0' + purchase_df['article_id'].astype(str) + ' '\n",
        "    purchase_df = purchase_df.groupby('customer_id').agg({'prediction': sum}).reset_index()\n",
        "    purchase_df['prediction'] = purchase_df['prediction'].str.strip()\n",
        "    purchase_df = cudf.DataFrame(purchase_df)\n",
        "    \n",
        "    sub  = pd.read_csv('../input/h-and-m-personalized-fashion-recommendations/sample_submission.csv',\n",
        "                            usecols= ['customer_id'], \n",
        "                            dtype={'customer_id': 'string'})\n",
        "    \n",
        "    numCustomers = sub.shape[0]\n",
        "    \n",
        "    sub = sub.merge(dfCustomersTemp[['customer_id', 'age']], on='customer_id', how='inner')\n",
        "\n",
        "    sub['customer_id2'] = sub['customer_id'].str[-16:].str.hex_to_int().astype('int64')\n",
        "\n",
        "    sub = sub.merge(purchase_df, left_on = 'customer_id2', right_on = 'customer_id', how = 'left',\n",
        "                   suffixes = ('', '_ignored'))\n",
        "\n",
        "    sub = sub.to_pandas()\n",
        "    sub['prediction'] = sub['prediction'].fillna(general_pred_str)\n",
        "    sub['prediction'] = sub['prediction'] + ' ' +  general_pred_str\n",
        "    sub['prediction'] = sub['prediction'].str.strip()\n",
        "    sub['prediction'] = sub['prediction'].str[:131]\n",
        "    sub = sub[['customer_id', 'prediction']]\n",
        "    sub.to_csv(f'submission_' + str(uniBin) + '.csv',index=False)\n",
        "    print(f'Saved prediction for {uniBin}. The shape is {sub.shape}. \\n')\n",
        "    print('-'*50)\n",
        "print('Finished.\\n')\n",
        "print('='*50)"
      ],
      "metadata": {
        "execution": {
          "iopub.status.busy": "2022-04-16T05:33:38.195746Z",
          "iopub.execute_input": "2022-04-16T05:33:38.196511Z",
          "iopub.status.idle": "2022-04-16T05:34:29.996533Z",
          "shell.execute_reply.started": "2022-04-16T05:33:38.196458Z",
          "shell.execute_reply": "2022-04-16T05:34:29.995478Z"
        },
        "trusted": true,
        "id": "fniFt6eEWMUt"
      },
      "execution_count": null,
      "outputs": []
    },
    {
      "cell_type": "code",
      "source": [
        ""
      ],
      "metadata": {
        "id": "ZnNvXRCDWMUt"
      },
      "execution_count": null,
      "outputs": []
    }
  ]
}